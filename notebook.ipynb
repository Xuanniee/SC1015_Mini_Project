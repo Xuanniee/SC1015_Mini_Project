{
 "cells": [
  {
   "cell_type": "code",
   "metadata": {
    "tags": [],
    "cell_id": "393e493d-bd66-4f2a-b456-328769a18d54",
    "deepnote_to_be_reexecuted": false,
    "source_hash": "a2795f2f",
    "execution_start": 1646705208376,
    "execution_millis": 4268,
    "deepnote_cell_type": "code"
   },
   "source": "# Import all the essential libraries\r\nimport pandas as pd\r\nimport numpy as np\r\nimport matplotlib.pyplot as plt\r\nimport seaborn as sb\r\n\r\n# Set the Default Graphics for Seaborn\r\nsb.set()",
   "execution_count": 1,
   "outputs": []
  },
  {
   "cell_type": "code",
   "source": "# Import the CSV File\r\nattritionData = pd.read_csv(\"train.csv\")\r\nprint(\"Data Dimensions: \", attritionData.shape)\r\n\r\nattritionData.head(n = 10)",
   "metadata": {
    "cell_id": "371034e1-dd7f-4c19-b336-20b985d0fcad",
    "tags": [],
    "deepnote_to_be_reexecuted": false,
    "source_hash": "f80d8330",
    "execution_start": 1646705269852,
    "execution_millis": 234,
    "deepnote_cell_type": "code"
   },
   "outputs": [
    {
     "name": "stdout",
     "text": "Data Dimensions:  (1470, 35)\n",
     "output_type": "stream"
    },
    {
     "output_type": "execute_result",
     "execution_count": 2,
     "data": {
      "application/vnd.deepnote.dataframe.v3+json": {
       "column_count": 35,
       "row_count": 10,
       "columns": [
        {
         "name": "Age",
         "dtype": "int64",
         "stats": {
          "unique_count": 10,
          "nan_count": 0,
          "min": "27",
          "max": "59",
          "histogram": [
           {
            "bin_start": 27,
            "bin_end": 30.2,
            "count": 2
           },
           {
            "bin_start": 30.2,
            "bin_end": 33.4,
            "count": 2
           },
           {
            "bin_start": 33.4,
            "bin_end": 36.6,
            "count": 1
           },
           {
            "bin_start": 36.6,
            "bin_end": 39.8,
            "count": 2
           },
           {
            "bin_start": 39.8,
            "bin_end": 43,
            "count": 1
           },
           {
            "bin_start": 43,
            "bin_end": 46.2,
            "count": 0
           },
           {
            "bin_start": 46.2,
            "bin_end": 49.400000000000006,
            "count": 1
           },
           {
            "bin_start": 49.400000000000006,
            "bin_end": 52.6,
            "count": 0
           },
           {
            "bin_start": 52.6,
            "bin_end": 55.8,
            "count": 0
           },
           {
            "bin_start": 55.8,
            "bin_end": 59,
            "count": 1
           }
          ]
         }
        },
        {
         "name": "Attrition",
         "dtype": "object",
         "stats": {
          "unique_count": 2,
          "nan_count": 0,
          "categories": [
           {
            "name": "No",
            "count": 8
           },
           {
            "name": "Yes",
            "count": 2
           }
          ]
         }
        },
        {
         "name": "BusinessTravel",
         "dtype": "object",
         "stats": {
          "unique_count": 2,
          "nan_count": 0,
          "categories": [
           {
            "name": "Travel_Rarely",
            "count": 6
           },
           {
            "name": "Travel_Frequently",
            "count": 4
           }
          ]
         }
        },
        {
         "name": "DailyRate",
         "dtype": "int64",
         "stats": {
          "unique_count": 10,
          "nan_count": 0,
          "min": "216",
          "max": "1392",
          "histogram": [
           {
            "bin_start": 216,
            "bin_end": 333.6,
            "count": 2
           },
           {
            "bin_start": 333.6,
            "bin_end": 451.2,
            "count": 0
           },
           {
            "bin_start": 451.2,
            "bin_end": 568.8,
            "count": 0
           },
           {
            "bin_start": 568.8,
            "bin_end": 686.4,
            "count": 1
           },
           {
            "bin_start": 686.4,
            "bin_end": 804,
            "count": 0
           },
           {
            "bin_start": 804,
            "bin_end": 921.5999999999999,
            "count": 0
           },
           {
            "bin_start": 921.5999999999999,
            "bin_end": 1039.1999999999998,
            "count": 1
           },
           {
            "bin_start": 1039.1999999999998,
            "bin_end": 1156.8,
            "count": 1
           },
           {
            "bin_start": 1156.8,
            "bin_end": 1274.3999999999999,
            "count": 0
           },
           {
            "bin_start": 1274.3999999999999,
            "bin_end": 1392,
            "count": 5
           }
          ]
         }
        },
        {
         "name": "Department",
         "dtype": "object",
         "stats": {
          "unique_count": 2,
          "nan_count": 0,
          "categories": [
           {
            "name": "Research & Development",
            "count": 9
           },
           {
            "name": "Sales",
            "count": 1
           }
          ]
         }
        },
        {
         "name": "DistanceFromHome",
         "dtype": "int64",
         "stats": {
          "unique_count": 7,
          "nan_count": 0,
          "min": "1",
          "max": "27",
          "histogram": [
           {
            "bin_start": 1,
            "bin_end": 3.6,
            "count": 6
           },
           {
            "bin_start": 3.6,
            "bin_end": 6.2,
            "count": 0
           },
           {
            "bin_start": 6.2,
            "bin_end": 8.8,
            "count": 1
           },
           {
            "bin_start": 8.8,
            "bin_end": 11.4,
            "count": 0
           },
           {
            "bin_start": 11.4,
            "bin_end": 14,
            "count": 0
           },
           {
            "bin_start": 14,
            "bin_end": 16.6,
            "count": 0
           },
           {
            "bin_start": 16.6,
            "bin_end": 19.2,
            "count": 0
           },
           {
            "bin_start": 19.2,
            "bin_end": 21.8,
            "count": 0
           },
           {
            "bin_start": 21.8,
            "bin_end": 24.400000000000002,
            "count": 2
           },
           {
            "bin_start": 24.400000000000002,
            "bin_end": 27,
            "count": 1
           }
          ]
         }
        },
        {
         "name": "Education",
         "dtype": "int64",
         "stats": {
          "unique_count": 4,
          "nan_count": 0,
          "min": "1",
          "max": "4",
          "histogram": [
           {
            "bin_start": 1,
            "bin_end": 1.3,
            "count": 3
           },
           {
            "bin_start": 1.3,
            "bin_end": 1.6,
            "count": 0
           },
           {
            "bin_start": 1.6,
            "bin_end": 1.9,
            "count": 0
           },
           {
            "bin_start": 1.9,
            "bin_end": 2.2,
            "count": 3
           },
           {
            "bin_start": 2.2,
            "bin_end": 2.5,
            "count": 0
           },
           {
            "bin_start": 2.5,
            "bin_end": 2.8,
            "count": 0
           },
           {
            "bin_start": 2.8,
            "bin_end": 3.1,
            "count": 3
           },
           {
            "bin_start": 3.1,
            "bin_end": 3.4,
            "count": 0
           },
           {
            "bin_start": 3.4,
            "bin_end": 3.6999999999999997,
            "count": 0
           },
           {
            "bin_start": 3.6999999999999997,
            "bin_end": 4,
            "count": 1
           }
          ]
         }
        },
        {
         "name": "EducationField",
         "dtype": "object",
         "stats": {
          "unique_count": 3,
          "nan_count": 0,
          "categories": [
           {
            "name": "Life Sciences",
            "count": 6
           },
           {
            "name": "Medical",
            "count": 3
           },
           {
            "name": "Other",
            "count": 1
           }
          ]
         }
        },
        {
         "name": "EmployeeCount",
         "dtype": "int64",
         "stats": {
          "unique_count": 1,
          "nan_count": 0,
          "min": "1",
          "max": "1",
          "histogram": [
           {
            "bin_start": 0.5,
            "bin_end": 0.6,
            "count": 0
           },
           {
            "bin_start": 0.6,
            "bin_end": 0.7,
            "count": 0
           },
           {
            "bin_start": 0.7,
            "bin_end": 0.8,
            "count": 0
           },
           {
            "bin_start": 0.8,
            "bin_end": 0.9,
            "count": 0
           },
           {
            "bin_start": 0.9,
            "bin_end": 1,
            "count": 0
           },
           {
            "bin_start": 1,
            "bin_end": 1.1,
            "count": 10
           },
           {
            "bin_start": 1.1,
            "bin_end": 1.2000000000000002,
            "count": 0
           },
           {
            "bin_start": 1.2000000000000002,
            "bin_end": 1.3,
            "count": 0
           },
           {
            "bin_start": 1.3,
            "bin_end": 1.4,
            "count": 0
           },
           {
            "bin_start": 1.4,
            "bin_end": 1.5,
            "count": 0
           }
          ]
         }
        },
        {
         "name": "EmployeeNumber",
         "dtype": "int64",
         "stats": {
          "unique_count": 10,
          "nan_count": 0,
          "min": "1",
          "max": "13",
          "histogram": [
           {
            "bin_start": 1,
            "bin_end": 2.2,
            "count": 2
           },
           {
            "bin_start": 2.2,
            "bin_end": 3.4,
            "count": 0
           },
           {
            "bin_start": 3.4,
            "bin_end": 4.6,
            "count": 1
           },
           {
            "bin_start": 4.6,
            "bin_end": 5.8,
            "count": 1
           },
           {
            "bin_start": 5.8,
            "bin_end": 7,
            "count": 0
           },
           {
            "bin_start": 7,
            "bin_end": 8.2,
            "count": 2
           },
           {
            "bin_start": 8.2,
            "bin_end": 9.4,
            "count": 0
           },
           {
            "bin_start": 9.4,
            "bin_end": 10.6,
            "count": 1
           },
           {
            "bin_start": 10.6,
            "bin_end": 11.799999999999999,
            "count": 1
           },
           {
            "bin_start": 11.799999999999999,
            "bin_end": 13,
            "count": 2
           }
          ]
         }
        },
        {
         "name": "EnvironmentSatisfaction",
         "dtype": "int64",
         "stats": {
          "unique_count": 4,
          "nan_count": 0,
          "min": "1",
          "max": "4",
          "histogram": [
           {
            "bin_start": 1,
            "bin_end": 1.3,
            "count": 1
           },
           {
            "bin_start": 1.3,
            "bin_end": 1.6,
            "count": 0
           },
           {
            "bin_start": 1.6,
            "bin_end": 1.9,
            "count": 0
           },
           {
            "bin_start": 1.9,
            "bin_end": 2.2,
            "count": 1
           },
           {
            "bin_start": 2.2,
            "bin_end": 2.5,
            "count": 0
           },
           {
            "bin_start": 2.5,
            "bin_end": 2.8,
            "count": 0
           },
           {
            "bin_start": 2.8,
            "bin_end": 3.1,
            "count": 3
           },
           {
            "bin_start": 3.1,
            "bin_end": 3.4,
            "count": 0
           },
           {
            "bin_start": 3.4,
            "bin_end": 3.6999999999999997,
            "count": 0
           },
           {
            "bin_start": 3.6999999999999997,
            "bin_end": 4,
            "count": 5
           }
          ]
         }
        },
        {
         "name": "Gender",
         "dtype": "object",
         "stats": {
          "unique_count": 2,
          "nan_count": 0,
          "categories": [
           {
            "name": "Male",
            "count": 7
           },
           {
            "name": "Female",
            "count": 3
           }
          ]
         }
        },
        {
         "name": "HourlyRate",
         "dtype": "int64",
         "stats": {
          "unique_count": 9,
          "nan_count": 0,
          "min": "40",
          "max": "94",
          "histogram": [
           {
            "bin_start": 40,
            "bin_end": 45.4,
            "count": 2
           },
           {
            "bin_start": 45.4,
            "bin_end": 50.8,
            "count": 0
           },
           {
            "bin_start": 50.8,
            "bin_end": 56.2,
            "count": 1
           },
           {
            "bin_start": 56.2,
            "bin_end": 61.6,
            "count": 1
           },
           {
            "bin_start": 61.6,
            "bin_end": 67,
            "count": 0
           },
           {
            "bin_start": 67,
            "bin_end": 72.4,
            "count": 1
           },
           {
            "bin_start": 72.4,
            "bin_end": 77.80000000000001,
            "count": 0
           },
           {
            "bin_start": 77.80000000000001,
            "bin_end": 83.2,
            "count": 2
           },
           {
            "bin_start": 83.2,
            "bin_end": 88.6,
            "count": 0
           },
           {
            "bin_start": 88.6,
            "bin_end": 94,
            "count": 3
           }
          ]
         }
        },
        {
         "name": "JobInvolvement",
         "dtype": "int64",
         "stats": {
          "unique_count": 3,
          "nan_count": 0,
          "min": "2",
          "max": "4",
          "histogram": [
           {
            "bin_start": 2,
            "bin_end": 2.2,
            "count": 3
           },
           {
            "bin_start": 2.2,
            "bin_end": 2.4,
            "count": 0
           },
           {
            "bin_start": 2.4,
            "bin_end": 2.6,
            "count": 0
           },
           {
            "bin_start": 2.6,
            "bin_end": 2.8,
            "count": 0
           },
           {
            "bin_start": 2.8,
            "bin_end": 3,
            "count": 0
           },
           {
            "bin_start": 3,
            "bin_end": 3.2,
            "count": 6
           },
           {
            "bin_start": 3.2,
            "bin_end": 3.4000000000000004,
            "count": 0
           },
           {
            "bin_start": 3.4000000000000004,
            "bin_end": 3.6,
            "count": 0
           },
           {
            "bin_start": 3.6,
            "bin_end": 3.8,
            "count": 0
           },
           {
            "bin_start": 3.8,
            "bin_end": 4,
            "count": 1
           }
          ]
         }
        },
        {
         "name": "JobLevel",
         "dtype": "int64",
         "stats": {
          "unique_count": 3,
          "nan_count": 0,
          "min": "1",
          "max": "3",
          "histogram": [
           {
            "bin_start": 1,
            "bin_end": 1.2,
            "count": 6
           },
           {
            "bin_start": 1.2,
            "bin_end": 1.4,
            "count": 0
           },
           {
            "bin_start": 1.4,
            "bin_end": 1.6,
            "count": 0
           },
           {
            "bin_start": 1.6,
            "bin_end": 1.8,
            "count": 0
           },
           {
            "bin_start": 1.8,
            "bin_end": 2,
            "count": 0
           },
           {
            "bin_start": 2,
            "bin_end": 2.2,
            "count": 3
           },
           {
            "bin_start": 2.2,
            "bin_end": 2.4000000000000004,
            "count": 0
           },
           {
            "bin_start": 2.4000000000000004,
            "bin_end": 2.6,
            "count": 0
           },
           {
            "bin_start": 2.6,
            "bin_end": 2.8,
            "count": 0
           },
           {
            "bin_start": 2.8,
            "bin_end": 3,
            "count": 1
           }
          ]
         }
        },
        {
         "name": "JobRole",
         "dtype": "object",
         "stats": {
          "unique_count": 5,
          "nan_count": 0,
          "categories": [
           {
            "name": "Laboratory Technician",
            "count": 5
           },
           {
            "name": "Research Scientist",
            "count": 2
           },
           {
            "name": "3 others",
            "count": 3
           }
          ]
         }
        },
        {
         "name": "JobSatisfaction",
         "dtype": "int64",
         "stats": {
          "unique_count": 4,
          "nan_count": 0,
          "min": "1",
          "max": "4",
          "histogram": [
           {
            "bin_start": 1,
            "bin_end": 1.3,
            "count": 1
           },
           {
            "bin_start": 1.3,
            "bin_end": 1.6,
            "count": 0
           },
           {
            "bin_start": 1.6,
            "bin_end": 1.9,
            "count": 0
           },
           {
            "bin_start": 1.9,
            "bin_end": 2.2,
            "count": 2
           },
           {
            "bin_start": 2.2,
            "bin_end": 2.5,
            "count": 0
           },
           {
            "bin_start": 2.5,
            "bin_end": 2.8,
            "count": 0
           },
           {
            "bin_start": 2.8,
            "bin_end": 3.1,
            "count": 5
           },
           {
            "bin_start": 3.1,
            "bin_end": 3.4,
            "count": 0
           },
           {
            "bin_start": 3.4,
            "bin_end": 3.6999999999999997,
            "count": 0
           },
           {
            "bin_start": 3.6999999999999997,
            "bin_end": 4,
            "count": 2
           }
          ]
         }
        },
        {
         "name": "MaritalStatus",
         "dtype": "object",
         "stats": {
          "unique_count": 3,
          "nan_count": 0,
          "categories": [
           {
            "name": "Married",
            "count": 5
           },
           {
            "name": "Single",
            "count": 4
           },
           {
            "name": "Divorced",
            "count": 1
           }
          ]
         }
        },
        {
         "name": "MonthlyIncome",
         "dtype": "int64",
         "stats": {
          "unique_count": 10,
          "nan_count": 0,
          "min": "2090",
          "max": "9526",
          "histogram": [
           {
            "bin_start": 2090,
            "bin_end": 2833.6,
            "count": 3
           },
           {
            "bin_start": 2833.6,
            "bin_end": 3577.2,
            "count": 3
           },
           {
            "bin_start": 3577.2,
            "bin_end": 4320.8,
            "count": 0
           },
           {
            "bin_start": 4320.8,
            "bin_end": 5064.4,
            "count": 0
           },
           {
            "bin_start": 5064.4,
            "bin_end": 5808,
            "count": 2
           },
           {
            "bin_start": 5808,
            "bin_end": 6551.6,
            "count": 1
           },
           {
            "bin_start": 6551.6,
            "bin_end": 7295.2,
            "count": 0
           },
           {
            "bin_start": 7295.2,
            "bin_end": 8038.8,
            "count": 0
           },
           {
            "bin_start": 8038.8,
            "bin_end": 8782.400000000001,
            "count": 0
           },
           {
            "bin_start": 8782.400000000001,
            "bin_end": 9526,
            "count": 1
           }
          ]
         }
        },
        {
         "name": "MonthlyRate",
         "dtype": "int64",
         "stats": {
          "unique_count": 10,
          "nan_count": 0,
          "min": "2396",
          "max": "24907",
          "histogram": [
           {
            "bin_start": 2396,
            "bin_end": 4647.1,
            "count": 1
           },
           {
            "bin_start": 4647.1,
            "bin_end": 6898.2,
            "count": 0
           },
           {
            "bin_start": 6898.2,
            "bin_end": 9149.3,
            "count": 1
           },
           {
            "bin_start": 9149.3,
            "bin_end": 11400.4,
            "count": 1
           },
           {
            "bin_start": 11400.4,
            "bin_end": 13651.5,
            "count": 2
           },
           {
            "bin_start": 13651.5,
            "bin_end": 15902.599999999999,
            "count": 0
           },
           {
            "bin_start": 15902.599999999999,
            "bin_end": 18153.699999999997,
            "count": 2
           },
           {
            "bin_start": 18153.699999999997,
            "bin_end": 20404.8,
            "count": 1
           },
           {
            "bin_start": 20404.8,
            "bin_end": 22655.899999999998,
            "count": 0
           },
           {
            "bin_start": 22655.899999999998,
            "bin_end": 24907,
            "count": 2
           }
          ]
         }
        },
        {
         "name": "NumCompaniesWorked",
         "dtype": "int64",
         "stats": {
          "unique_count": 6,
          "nan_count": 0,
          "min": "0",
          "max": "9",
          "histogram": [
           {
            "bin_start": 0,
            "bin_end": 0.9,
            "count": 2
           },
           {
            "bin_start": 0.9,
            "bin_end": 1.8,
            "count": 3
           },
           {
            "bin_start": 1.8,
            "bin_end": 2.7,
            "count": 0
           },
           {
            "bin_start": 2.7,
            "bin_end": 3.6,
            "count": 0
           },
           {
            "bin_start": 3.6,
            "bin_end": 4.5,
            "count": 1
           },
           {
            "bin_start": 4.5,
            "bin_end": 5.4,
            "count": 0
           },
           {
            "bin_start": 5.4,
            "bin_end": 6.3,
            "count": 2
           },
           {
            "bin_start": 6.3,
            "bin_end": 7.2,
            "count": 0
           },
           {
            "bin_start": 7.2,
            "bin_end": 8.1,
            "count": 1
           },
           {
            "bin_start": 8.1,
            "bin_end": 9,
            "count": 1
           }
          ]
         }
        },
        {
         "name": "Over18",
         "dtype": "object",
         "stats": {
          "unique_count": 1,
          "nan_count": 0,
          "categories": [
           {
            "name": "Y",
            "count": 10
           }
          ]
         }
        },
        {
         "name": "OverTime",
         "dtype": "object",
         "stats": {
          "unique_count": 2,
          "nan_count": 0,
          "categories": [
           {
            "name": "No",
            "count": 6
           },
           {
            "name": "Yes",
            "count": 4
           }
          ]
         }
        },
        {
         "name": "PercentSalaryHike",
         "dtype": "int64",
         "stats": {
          "unique_count": 8,
          "nan_count": 0,
          "min": "11",
          "max": "23",
          "histogram": [
           {
            "bin_start": 11,
            "bin_end": 12.2,
            "count": 3
           },
           {
            "bin_start": 12.2,
            "bin_end": 13.4,
            "count": 2
           },
           {
            "bin_start": 13.4,
            "bin_end": 14.6,
            "count": 0
           },
           {
            "bin_start": 14.6,
            "bin_end": 15.8,
            "count": 1
           },
           {
            "bin_start": 15.8,
            "bin_end": 17,
            "count": 0
           },
           {
            "bin_start": 17,
            "bin_end": 18.2,
            "count": 0
           },
           {
            "bin_start": 18.2,
            "bin_end": 19.4,
            "count": 0
           },
           {
            "bin_start": 19.4,
            "bin_end": 20.6,
            "count": 1
           },
           {
            "bin_start": 20.6,
            "bin_end": 21.799999999999997,
            "count": 1
           },
           {
            "bin_start": 21.799999999999997,
            "bin_end": 23,
            "count": 2
           }
          ]
         }
        },
        {
         "name": "PerformanceRating",
         "dtype": "int64",
         "stats": {
          "unique_count": 2,
          "nan_count": 0,
          "min": "3",
          "max": "4",
          "histogram": [
           {
            "bin_start": 3,
            "bin_end": 3.1,
            "count": 6
           },
           {
            "bin_start": 3.1,
            "bin_end": 3.2,
            "count": 0
           },
           {
            "bin_start": 3.2,
            "bin_end": 3.3,
            "count": 0
           },
           {
            "bin_start": 3.3,
            "bin_end": 3.4,
            "count": 0
           },
           {
            "bin_start": 3.4,
            "bin_end": 3.5,
            "count": 0
           },
           {
            "bin_start": 3.5,
            "bin_end": 3.6,
            "count": 0
           },
           {
            "bin_start": 3.6,
            "bin_end": 3.7,
            "count": 0
           },
           {
            "bin_start": 3.7,
            "bin_end": 3.8,
            "count": 0
           },
           {
            "bin_start": 3.8,
            "bin_end": 3.9,
            "count": 0
           },
           {
            "bin_start": 3.9,
            "bin_end": 4,
            "count": 4
           }
          ]
         }
        },
        {
         "name": "RelationshipSatisfaction",
         "dtype": "int64",
         "stats": {
          "unique_count": 4,
          "nan_count": 0,
          "min": "1",
          "max": "4",
          "histogram": [
           {
            "bin_start": 1,
            "bin_end": 1.3,
            "count": 2
           },
           {
            "bin_start": 1.3,
            "bin_end": 1.6,
            "count": 0
           },
           {
            "bin_start": 1.6,
            "bin_end": 1.9,
            "count": 0
           },
           {
            "bin_start": 1.9,
            "bin_end": 2.2,
            "count": 4
           },
           {
            "bin_start": 2.2,
            "bin_end": 2.5,
            "count": 0
           },
           {
            "bin_start": 2.5,
            "bin_end": 2.8,
            "count": 0
           },
           {
            "bin_start": 2.8,
            "bin_end": 3.1,
            "count": 2
           },
           {
            "bin_start": 3.1,
            "bin_end": 3.4,
            "count": 0
           },
           {
            "bin_start": 3.4,
            "bin_end": 3.6999999999999997,
            "count": 0
           },
           {
            "bin_start": 3.6999999999999997,
            "bin_end": 4,
            "count": 2
           }
          ]
         }
        },
        {
         "name": "StandardHours",
         "dtype": "int64",
         "stats": {
          "unique_count": 1,
          "nan_count": 0,
          "min": "80",
          "max": "80",
          "histogram": [
           {
            "bin_start": 79.5,
            "bin_end": 79.6,
            "count": 0
           },
           {
            "bin_start": 79.6,
            "bin_end": 79.7,
            "count": 0
           },
           {
            "bin_start": 79.7,
            "bin_end": 79.8,
            "count": 0
           },
           {
            "bin_start": 79.8,
            "bin_end": 79.9,
            "count": 0
           },
           {
            "bin_start": 79.9,
            "bin_end": 80,
            "count": 0
           },
           {
            "bin_start": 80,
            "bin_end": 80.1,
            "count": 10
           },
           {
            "bin_start": 80.1,
            "bin_end": 80.2,
            "count": 0
           },
           {
            "bin_start": 80.2,
            "bin_end": 80.3,
            "count": 0
           },
           {
            "bin_start": 80.3,
            "bin_end": 80.4,
            "count": 0
           },
           {
            "bin_start": 80.4,
            "bin_end": 80.5,
            "count": 0
           }
          ]
         }
        },
        {
         "name": "StockOptionLevel",
         "dtype": "int64",
         "stats": {
          "unique_count": 4,
          "nan_count": 0,
          "min": "0",
          "max": "3",
          "histogram": [
           {
            "bin_start": 0,
            "bin_end": 0.3,
            "count": 5
           },
           {
            "bin_start": 0.3,
            "bin_end": 0.6,
            "count": 0
           },
           {
            "bin_start": 0.6,
            "bin_end": 0.8999999999999999,
            "count": 0
           },
           {
            "bin_start": 0.8999999999999999,
            "bin_end": 1.2,
            "count": 3
           },
           {
            "bin_start": 1.2,
            "bin_end": 1.5,
            "count": 0
           },
           {
            "bin_start": 1.5,
            "bin_end": 1.7999999999999998,
            "count": 0
           },
           {
            "bin_start": 1.7999999999999998,
            "bin_end": 2.1,
            "count": 1
           },
           {
            "bin_start": 2.1,
            "bin_end": 2.4,
            "count": 0
           },
           {
            "bin_start": 2.4,
            "bin_end": 2.6999999999999997,
            "count": 0
           },
           {
            "bin_start": 2.6999999999999997,
            "bin_end": 3,
            "count": 1
           }
          ]
         }
        },
        {
         "name": "TotalWorkingYears",
         "dtype": "int64",
         "stats": {
          "unique_count": 7,
          "nan_count": 0,
          "min": "1",
          "max": "17",
          "histogram": [
           {
            "bin_start": 1,
            "bin_end": 2.6,
            "count": 1
           },
           {
            "bin_start": 2.6,
            "bin_end": 4.2,
            "count": 0
           },
           {
            "bin_start": 4.2,
            "bin_end": 5.800000000000001,
            "count": 0
           },
           {
            "bin_start": 5.800000000000001,
            "bin_end": 7.4,
            "count": 2
           },
           {
            "bin_start": 7.4,
            "bin_end": 9,
            "count": 3
           },
           {
            "bin_start": 9,
            "bin_end": 10.600000000000001,
            "count": 2
           },
           {
            "bin_start": 10.600000000000001,
            "bin_end": 12.200000000000001,
            "count": 1
           },
           {
            "bin_start": 12.200000000000001,
            "bin_end": 13.8,
            "count": 0
           },
           {
            "bin_start": 13.8,
            "bin_end": 15.4,
            "count": 0
           },
           {
            "bin_start": 15.4,
            "bin_end": 17,
            "count": 1
           }
          ]
         }
        },
        {
         "name": "TrainingTimesLastYear",
         "dtype": "int64",
         "stats": {
          "unique_count": 3,
          "nan_count": 0,
          "min": "0",
          "max": "3",
          "histogram": [
           {
            "bin_start": 0,
            "bin_end": 0.3,
            "count": 1
           },
           {
            "bin_start": 0.3,
            "bin_end": 0.6,
            "count": 0
           },
           {
            "bin_start": 0.6,
            "bin_end": 0.8999999999999999,
            "count": 0
           },
           {
            "bin_start": 0.8999999999999999,
            "bin_end": 1.2,
            "count": 0
           },
           {
            "bin_start": 1.2,
            "bin_end": 1.5,
            "count": 0
           },
           {
            "bin_start": 1.5,
            "bin_end": 1.7999999999999998,
            "count": 0
           },
           {
            "bin_start": 1.7999999999999998,
            "bin_end": 2.1,
            "count": 3
           },
           {
            "bin_start": 2.1,
            "bin_end": 2.4,
            "count": 0
           },
           {
            "bin_start": 2.4,
            "bin_end": 2.6999999999999997,
            "count": 0
           },
           {
            "bin_start": 2.6999999999999997,
            "bin_end": 3,
            "count": 6
           }
          ]
         }
        },
        {
         "name": "WorkLifeBalance",
         "dtype": "int64",
         "stats": {
          "unique_count": 3,
          "nan_count": 0,
          "min": "1",
          "max": "3",
          "histogram": [
           {
            "bin_start": 1,
            "bin_end": 1.2,
            "count": 1
           },
           {
            "bin_start": 1.2,
            "bin_end": 1.4,
            "count": 0
           },
           {
            "bin_start": 1.4,
            "bin_end": 1.6,
            "count": 0
           },
           {
            "bin_start": 1.6,
            "bin_end": 1.8,
            "count": 0
           },
           {
            "bin_start": 1.8,
            "bin_end": 2,
            "count": 0
           },
           {
            "bin_start": 2,
            "bin_end": 2.2,
            "count": 3
           },
           {
            "bin_start": 2.2,
            "bin_end": 2.4000000000000004,
            "count": 0
           },
           {
            "bin_start": 2.4000000000000004,
            "bin_end": 2.6,
            "count": 0
           },
           {
            "bin_start": 2.6,
            "bin_end": 2.8,
            "count": 0
           },
           {
            "bin_start": 2.8,
            "bin_end": 3,
            "count": 6
           }
          ]
         }
        },
        {
         "name": "YearsAtCompany",
         "dtype": "int64",
         "stats": {
          "unique_count": 8,
          "nan_count": 0,
          "min": "0",
          "max": "10",
          "histogram": [
           {
            "bin_start": 0,
            "bin_end": 1,
            "count": 1
           },
           {
            "bin_start": 1,
            "bin_end": 2,
            "count": 2
           },
           {
            "bin_start": 2,
            "bin_end": 3,
            "count": 1
           },
           {
            "bin_start": 3,
            "bin_end": 4,
            "count": 0
           },
           {
            "bin_start": 4,
            "bin_end": 5,
            "count": 0
           },
           {
            "bin_start": 5,
            "bin_end": 6,
            "count": 0
           },
           {
            "bin_start": 6,
            "bin_end": 7,
            "count": 1
           },
           {
            "bin_start": 7,
            "bin_end": 8,
            "count": 2
           },
           {
            "bin_start": 8,
            "bin_end": 9,
            "count": 1
           },
           {
            "bin_start": 9,
            "bin_end": 10,
            "count": 2
           }
          ]
         }
        },
        {
         "name": "YearsInCurrentRole",
         "dtype": "int64",
         "stats": {
          "unique_count": 4,
          "nan_count": 0,
          "min": "0",
          "max": "7",
          "histogram": [
           {
            "bin_start": 0,
            "bin_end": 0.7,
            "count": 3
           },
           {
            "bin_start": 0.7,
            "bin_end": 1.4,
            "count": 0
           },
           {
            "bin_start": 1.4,
            "bin_end": 2.0999999999999996,
            "count": 1
           },
           {
            "bin_start": 2.0999999999999996,
            "bin_end": 2.8,
            "count": 0
           },
           {
            "bin_start": 2.8,
            "bin_end": 3.5,
            "count": 0
           },
           {
            "bin_start": 3.5,
            "bin_end": 4.199999999999999,
            "count": 1
           },
           {
            "bin_start": 4.199999999999999,
            "bin_end": 4.8999999999999995,
            "count": 0
           },
           {
            "bin_start": 4.8999999999999995,
            "bin_end": 5.6,
            "count": 0
           },
           {
            "bin_start": 5.6,
            "bin_end": 6.3,
            "count": 0
           },
           {
            "bin_start": 6.3,
            "bin_end": 7,
            "count": 5
           }
          ]
         }
        },
        {
         "name": "YearsSinceLastPromotion",
         "dtype": "int64",
         "stats": {
          "unique_count": 5,
          "nan_count": 0,
          "min": "0",
          "max": "7",
          "histogram": [
           {
            "bin_start": 0,
            "bin_end": 0.7,
            "count": 4
           },
           {
            "bin_start": 0.7,
            "bin_end": 1.4,
            "count": 2
           },
           {
            "bin_start": 1.4,
            "bin_end": 2.0999999999999996,
            "count": 1
           },
           {
            "bin_start": 2.0999999999999996,
            "bin_end": 2.8,
            "count": 0
           },
           {
            "bin_start": 2.8,
            "bin_end": 3.5,
            "count": 2
           },
           {
            "bin_start": 3.5,
            "bin_end": 4.199999999999999,
            "count": 0
           },
           {
            "bin_start": 4.199999999999999,
            "bin_end": 4.8999999999999995,
            "count": 0
           },
           {
            "bin_start": 4.8999999999999995,
            "bin_end": 5.6,
            "count": 0
           },
           {
            "bin_start": 5.6,
            "bin_end": 6.3,
            "count": 0
           },
           {
            "bin_start": 6.3,
            "bin_end": 7,
            "count": 1
           }
          ]
         }
        },
        {
         "name": "YearsWithCurrManager",
         "dtype": "int64",
         "stats": {
          "unique_count": 6,
          "nan_count": 0,
          "min": "0",
          "max": "8",
          "histogram": [
           {
            "bin_start": 0,
            "bin_end": 0.8,
            "count": 4
           },
           {
            "bin_start": 0.8,
            "bin_end": 1.6,
            "count": 0
           },
           {
            "bin_start": 1.6,
            "bin_end": 2.4000000000000004,
            "count": 1
           },
           {
            "bin_start": 2.4000000000000004,
            "bin_end": 3.2,
            "count": 0
           },
           {
            "bin_start": 3.2,
            "bin_end": 4,
            "count": 0
           },
           {
            "bin_start": 4,
            "bin_end": 4.800000000000001,
            "count": 0
           },
           {
            "bin_start": 4.800000000000001,
            "bin_end": 5.6000000000000005,
            "count": 1
           },
           {
            "bin_start": 5.6000000000000005,
            "bin_end": 6.4,
            "count": 1
           },
           {
            "bin_start": 6.4,
            "bin_end": 7.2,
            "count": 2
           },
           {
            "bin_start": 7.2,
            "bin_end": 8,
            "count": 1
           }
          ]
         }
        },
        {
         "name": "_deepnote_index_column",
         "dtype": "int64"
        }
       ],
       "rows": [
        {
         "Age": 41,
         "Attrition": "Yes",
         "BusinessTravel": "Travel_Rarely",
         "DailyRate": 1102,
         "Department": "Sales",
         "DistanceFromHome": 1,
         "Education": 2,
         "EducationField": "Life Sciences",
         "EmployeeCount": 1,
         "EmployeeNumber": 1,
         "EnvironmentSatisfaction": 2,
         "Gender": "Female",
         "HourlyRate": 94,
         "JobInvolvement": 3,
         "JobLevel": 2,
         "JobRole": "Sales Executive",
         "JobSatisfaction": 4,
         "MaritalStatus": "Single",
         "MonthlyIncome": 5993,
         "MonthlyRate": 19479,
         "NumCompaniesWorked": 8,
         "Over18": "Y",
         "OverTime": "Yes",
         "PercentSalaryHike": 11,
         "PerformanceRating": 3,
         "RelationshipSatisfaction": 1,
         "StandardHours": 80,
         "StockOptionLevel": 0,
         "TotalWorkingYears": 8,
         "TrainingTimesLastYear": 0,
         "WorkLifeBalance": 1,
         "YearsAtCompany": 6,
         "YearsInCurrentRole": 4,
         "YearsSinceLastPromotion": 0,
         "YearsWithCurrManager": 5,
         "_deepnote_index_column": 0
        },
        {
         "Age": 49,
         "Attrition": "No",
         "BusinessTravel": "Travel_Frequently",
         "DailyRate": 279,
         "Department": "Research & Development",
         "DistanceFromHome": 8,
         "Education": 1,
         "EducationField": "Life Sciences",
         "EmployeeCount": 1,
         "EmployeeNumber": 2,
         "EnvironmentSatisfaction": 3,
         "Gender": "Male",
         "HourlyRate": 61,
         "JobInvolvement": 2,
         "JobLevel": 2,
         "JobRole": "Research Scientist",
         "JobSatisfaction": 2,
         "MaritalStatus": "Married",
         "MonthlyIncome": 5130,
         "MonthlyRate": 24907,
         "NumCompaniesWorked": 1,
         "Over18": "Y",
         "OverTime": "No",
         "PercentSalaryHike": 23,
         "PerformanceRating": 4,
         "RelationshipSatisfaction": 4,
         "StandardHours": 80,
         "StockOptionLevel": 1,
         "TotalWorkingYears": 10,
         "TrainingTimesLastYear": 3,
         "WorkLifeBalance": 3,
         "YearsAtCompany": 10,
         "YearsInCurrentRole": 7,
         "YearsSinceLastPromotion": 1,
         "YearsWithCurrManager": 7,
         "_deepnote_index_column": 1
        },
        {
         "Age": 37,
         "Attrition": "Yes",
         "BusinessTravel": "Travel_Rarely",
         "DailyRate": 1373,
         "Department": "Research & Development",
         "DistanceFromHome": 2,
         "Education": 2,
         "EducationField": "Other",
         "EmployeeCount": 1,
         "EmployeeNumber": 4,
         "EnvironmentSatisfaction": 4,
         "Gender": "Male",
         "HourlyRate": 92,
         "JobInvolvement": 2,
         "JobLevel": 1,
         "JobRole": "Laboratory Technician",
         "JobSatisfaction": 3,
         "MaritalStatus": "Single",
         "MonthlyIncome": 2090,
         "MonthlyRate": 2396,
         "NumCompaniesWorked": 6,
         "Over18": "Y",
         "OverTime": "Yes",
         "PercentSalaryHike": 15,
         "PerformanceRating": 3,
         "RelationshipSatisfaction": 2,
         "StandardHours": 80,
         "StockOptionLevel": 0,
         "TotalWorkingYears": 7,
         "TrainingTimesLastYear": 3,
         "WorkLifeBalance": 3,
         "YearsAtCompany": 0,
         "YearsInCurrentRole": 0,
         "YearsSinceLastPromotion": 0,
         "YearsWithCurrManager": 0,
         "_deepnote_index_column": 2
        },
        {
         "Age": 33,
         "Attrition": "No",
         "BusinessTravel": "Travel_Frequently",
         "DailyRate": 1392,
         "Department": "Research & Development",
         "DistanceFromHome": 3,
         "Education": 4,
         "EducationField": "Life Sciences",
         "EmployeeCount": 1,
         "EmployeeNumber": 5,
         "EnvironmentSatisfaction": 4,
         "Gender": "Female",
         "HourlyRate": 56,
         "JobInvolvement": 3,
         "JobLevel": 1,
         "JobRole": "Research Scientist",
         "JobSatisfaction": 3,
         "MaritalStatus": "Married",
         "MonthlyIncome": 2909,
         "MonthlyRate": 23159,
         "NumCompaniesWorked": 1,
         "Over18": "Y",
         "OverTime": "Yes",
         "PercentSalaryHike": 11,
         "PerformanceRating": 3,
         "RelationshipSatisfaction": 3,
         "StandardHours": 80,
         "StockOptionLevel": 0,
         "TotalWorkingYears": 8,
         "TrainingTimesLastYear": 3,
         "WorkLifeBalance": 3,
         "YearsAtCompany": 8,
         "YearsInCurrentRole": 7,
         "YearsSinceLastPromotion": 3,
         "YearsWithCurrManager": 0,
         "_deepnote_index_column": 3
        },
        {
         "Age": 27,
         "Attrition": "No",
         "BusinessTravel": "Travel_Rarely",
         "DailyRate": 591,
         "Department": "Research & Development",
         "DistanceFromHome": 2,
         "Education": 1,
         "EducationField": "Medical",
         "EmployeeCount": 1,
         "EmployeeNumber": 7,
         "EnvironmentSatisfaction": 1,
         "Gender": "Male",
         "HourlyRate": 40,
         "JobInvolvement": 3,
         "JobLevel": 1,
         "JobRole": "Laboratory Technician",
         "JobSatisfaction": 2,
         "MaritalStatus": "Married",
         "MonthlyIncome": 3468,
         "MonthlyRate": 16632,
         "NumCompaniesWorked": 9,
         "Over18": "Y",
         "OverTime": "No",
         "PercentSalaryHike": 12,
         "PerformanceRating": 3,
         "RelationshipSatisfaction": 4,
         "StandardHours": 80,
         "StockOptionLevel": 1,
         "TotalWorkingYears": 6,
         "TrainingTimesLastYear": 3,
         "WorkLifeBalance": 3,
         "YearsAtCompany": 2,
         "YearsInCurrentRole": 2,
         "YearsSinceLastPromotion": 2,
         "YearsWithCurrManager": 2,
         "_deepnote_index_column": 4
        },
        {
         "Age": 32,
         "Attrition": "No",
         "BusinessTravel": "Travel_Frequently",
         "DailyRate": 1005,
         "Department": "Research & Development",
         "DistanceFromHome": 2,
         "Education": 2,
         "EducationField": "Life Sciences",
         "EmployeeCount": 1,
         "EmployeeNumber": 8,
         "EnvironmentSatisfaction": 4,
         "Gender": "Male",
         "HourlyRate": 79,
         "JobInvolvement": 3,
         "JobLevel": 1,
         "JobRole": "Laboratory Technician",
         "JobSatisfaction": 4,
         "MaritalStatus": "Single",
         "MonthlyIncome": 3068,
         "MonthlyRate": 11864,
         "NumCompaniesWorked": 0,
         "Over18": "Y",
         "OverTime": "No",
         "PercentSalaryHike": 13,
         "PerformanceRating": 3,
         "RelationshipSatisfaction": 3,
         "StandardHours": 80,
         "StockOptionLevel": 0,
         "TotalWorkingYears": 8,
         "TrainingTimesLastYear": 2,
         "WorkLifeBalance": 2,
         "YearsAtCompany": 7,
         "YearsInCurrentRole": 7,
         "YearsSinceLastPromotion": 3,
         "YearsWithCurrManager": 6,
         "_deepnote_index_column": 5
        },
        {
         "Age": 59,
         "Attrition": "No",
         "BusinessTravel": "Travel_Rarely",
         "DailyRate": 1324,
         "Department": "Research & Development",
         "DistanceFromHome": 3,
         "Education": 3,
         "EducationField": "Medical",
         "EmployeeCount": 1,
         "EmployeeNumber": 10,
         "EnvironmentSatisfaction": 3,
         "Gender": "Female",
         "HourlyRate": 81,
         "JobInvolvement": 4,
         "JobLevel": 1,
         "JobRole": "Laboratory Technician",
         "JobSatisfaction": 1,
         "MaritalStatus": "Married",
         "MonthlyIncome": 2670,
         "MonthlyRate": 9964,
         "NumCompaniesWorked": 4,
         "Over18": "Y",
         "OverTime": "Yes",
         "PercentSalaryHike": 20,
         "PerformanceRating": 4,
         "RelationshipSatisfaction": 1,
         "StandardHours": 80,
         "StockOptionLevel": 3,
         "TotalWorkingYears": 12,
         "TrainingTimesLastYear": 3,
         "WorkLifeBalance": 2,
         "YearsAtCompany": 1,
         "YearsInCurrentRole": 0,
         "YearsSinceLastPromotion": 0,
         "YearsWithCurrManager": 0,
         "_deepnote_index_column": 6
        },
        {
         "Age": 30,
         "Attrition": "No",
         "BusinessTravel": "Travel_Rarely",
         "DailyRate": 1358,
         "Department": "Research & Development",
         "DistanceFromHome": 24,
         "Education": 1,
         "EducationField": "Life Sciences",
         "EmployeeCount": 1,
         "EmployeeNumber": 11,
         "EnvironmentSatisfaction": 4,
         "Gender": "Male",
         "HourlyRate": 67,
         "JobInvolvement": 3,
         "JobLevel": 1,
         "JobRole": "Laboratory Technician",
         "JobSatisfaction": 3,
         "MaritalStatus": "Divorced",
         "MonthlyIncome": 2693,
         "MonthlyRate": 13335,
         "NumCompaniesWorked": 1,
         "Over18": "Y",
         "OverTime": "No",
         "PercentSalaryHike": 22,
         "PerformanceRating": 4,
         "RelationshipSatisfaction": 2,
         "StandardHours": 80,
         "StockOptionLevel": 1,
         "TotalWorkingYears": 1,
         "TrainingTimesLastYear": 2,
         "WorkLifeBalance": 3,
         "YearsAtCompany": 1,
         "YearsInCurrentRole": 0,
         "YearsSinceLastPromotion": 0,
         "YearsWithCurrManager": 0,
         "_deepnote_index_column": 7
        },
        {
         "Age": 38,
         "Attrition": "No",
         "BusinessTravel": "Travel_Frequently",
         "DailyRate": 216,
         "Department": "Research & Development",
         "DistanceFromHome": 23,
         "Education": 3,
         "EducationField": "Life Sciences",
         "EmployeeCount": 1,
         "EmployeeNumber": 12,
         "EnvironmentSatisfaction": 4,
         "Gender": "Male",
         "HourlyRate": 44,
         "JobInvolvement": 2,
         "JobLevel": 3,
         "JobRole": "Manufacturing Director",
         "JobSatisfaction": 3,
         "MaritalStatus": "Single",
         "MonthlyIncome": 9526,
         "MonthlyRate": 8787,
         "NumCompaniesWorked": 0,
         "Over18": "Y",
         "OverTime": "No",
         "PercentSalaryHike": 21,
         "PerformanceRating": 4,
         "RelationshipSatisfaction": 2,
         "StandardHours": 80,
         "StockOptionLevel": 0,
         "TotalWorkingYears": 10,
         "TrainingTimesLastYear": 2,
         "WorkLifeBalance": 3,
         "YearsAtCompany": 9,
         "YearsInCurrentRole": 7,
         "YearsSinceLastPromotion": 1,
         "YearsWithCurrManager": 8,
         "_deepnote_index_column": 8
        },
        {
         "Age": 36,
         "Attrition": "No",
         "BusinessTravel": "Travel_Rarely",
         "DailyRate": 1299,
         "Department": "Research & Development",
         "DistanceFromHome": 27,
         "Education": 3,
         "EducationField": "Medical",
         "EmployeeCount": 1,
         "EmployeeNumber": 13,
         "EnvironmentSatisfaction": 3,
         "Gender": "Male",
         "HourlyRate": 94,
         "JobInvolvement": 3,
         "JobLevel": 2,
         "JobRole": "Healthcare Representative",
         "JobSatisfaction": 3,
         "MaritalStatus": "Married",
         "MonthlyIncome": 5237,
         "MonthlyRate": 16577,
         "NumCompaniesWorked": 6,
         "Over18": "Y",
         "OverTime": "No",
         "PercentSalaryHike": 13,
         "PerformanceRating": 3,
         "RelationshipSatisfaction": 2,
         "StandardHours": 80,
         "StockOptionLevel": 2,
         "TotalWorkingYears": 17,
         "TrainingTimesLastYear": 3,
         "WorkLifeBalance": 2,
         "YearsAtCompany": 7,
         "YearsInCurrentRole": 7,
         "YearsSinceLastPromotion": 7,
         "YearsWithCurrManager": 7,
         "_deepnote_index_column": 9
        }
       ]
      },
      "text/plain": "   Age Attrition     BusinessTravel  DailyRate              Department  \\\n0   41       Yes      Travel_Rarely       1102                   Sales   \n1   49        No  Travel_Frequently        279  Research & Development   \n2   37       Yes      Travel_Rarely       1373  Research & Development   \n3   33        No  Travel_Frequently       1392  Research & Development   \n4   27        No      Travel_Rarely        591  Research & Development   \n5   32        No  Travel_Frequently       1005  Research & Development   \n6   59        No      Travel_Rarely       1324  Research & Development   \n7   30        No      Travel_Rarely       1358  Research & Development   \n8   38        No  Travel_Frequently        216  Research & Development   \n9   36        No      Travel_Rarely       1299  Research & Development   \n\n   DistanceFromHome  Education EducationField  EmployeeCount  EmployeeNumber  \\\n0                 1          2  Life Sciences              1               1   \n1                 8          1  Life Sciences              1               2   \n2                 2          2          Other              1               4   \n3                 3          4  Life Sciences              1               5   \n4                 2          1        Medical              1               7   \n5                 2          2  Life Sciences              1               8   \n6                 3          3        Medical              1              10   \n7                24          1  Life Sciences              1              11   \n8                23          3  Life Sciences              1              12   \n9                27          3        Medical              1              13   \n\n   ...  RelationshipSatisfaction StandardHours  StockOptionLevel  \\\n0  ...                         1            80                 0   \n1  ...                         4            80                 1   \n2  ...                         2            80                 0   \n3  ...                         3            80                 0   \n4  ...                         4            80                 1   \n5  ...                         3            80                 0   \n6  ...                         1            80                 3   \n7  ...                         2            80                 1   \n8  ...                         2            80                 0   \n9  ...                         2            80                 2   \n\n   TotalWorkingYears  TrainingTimesLastYear WorkLifeBalance  YearsAtCompany  \\\n0                  8                      0               1               6   \n1                 10                      3               3              10   \n2                  7                      3               3               0   \n3                  8                      3               3               8   \n4                  6                      3               3               2   \n5                  8                      2               2               7   \n6                 12                      3               2               1   \n7                  1                      2               3               1   \n8                 10                      2               3               9   \n9                 17                      3               2               7   \n\n  YearsInCurrentRole  YearsSinceLastPromotion  YearsWithCurrManager  \n0                  4                        0                     5  \n1                  7                        1                     7  \n2                  0                        0                     0  \n3                  7                        3                     0  \n4                  2                        2                     2  \n5                  7                        3                     6  \n6                  0                        0                     0  \n7                  0                        0                     0  \n8                  7                        1                     8  \n9                  7                        7                     7  \n\n[10 rows x 35 columns]",
      "text/html": "<div>\n<style scoped>\n    .dataframe tbody tr th:only-of-type {\n        vertical-align: middle;\n    }\n\n    .dataframe tbody tr th {\n        vertical-align: top;\n    }\n\n    .dataframe thead th {\n        text-align: right;\n    }\n</style>\n<table border=\"1\" class=\"dataframe\">\n  <thead>\n    <tr style=\"text-align: right;\">\n      <th></th>\n      <th>Age</th>\n      <th>Attrition</th>\n      <th>BusinessTravel</th>\n      <th>DailyRate</th>\n      <th>Department</th>\n      <th>DistanceFromHome</th>\n      <th>Education</th>\n      <th>EducationField</th>\n      <th>EmployeeCount</th>\n      <th>EmployeeNumber</th>\n      <th>...</th>\n      <th>RelationshipSatisfaction</th>\n      <th>StandardHours</th>\n      <th>StockOptionLevel</th>\n      <th>TotalWorkingYears</th>\n      <th>TrainingTimesLastYear</th>\n      <th>WorkLifeBalance</th>\n      <th>YearsAtCompany</th>\n      <th>YearsInCurrentRole</th>\n      <th>YearsSinceLastPromotion</th>\n      <th>YearsWithCurrManager</th>\n    </tr>\n  </thead>\n  <tbody>\n    <tr>\n      <th>0</th>\n      <td>41</td>\n      <td>Yes</td>\n      <td>Travel_Rarely</td>\n      <td>1102</td>\n      <td>Sales</td>\n      <td>1</td>\n      <td>2</td>\n      <td>Life Sciences</td>\n      <td>1</td>\n      <td>1</td>\n      <td>...</td>\n      <td>1</td>\n      <td>80</td>\n      <td>0</td>\n      <td>8</td>\n      <td>0</td>\n      <td>1</td>\n      <td>6</td>\n      <td>4</td>\n      <td>0</td>\n      <td>5</td>\n    </tr>\n    <tr>\n      <th>1</th>\n      <td>49</td>\n      <td>No</td>\n      <td>Travel_Frequently</td>\n      <td>279</td>\n      <td>Research &amp; Development</td>\n      <td>8</td>\n      <td>1</td>\n      <td>Life Sciences</td>\n      <td>1</td>\n      <td>2</td>\n      <td>...</td>\n      <td>4</td>\n      <td>80</td>\n      <td>1</td>\n      <td>10</td>\n      <td>3</td>\n      <td>3</td>\n      <td>10</td>\n      <td>7</td>\n      <td>1</td>\n      <td>7</td>\n    </tr>\n    <tr>\n      <th>2</th>\n      <td>37</td>\n      <td>Yes</td>\n      <td>Travel_Rarely</td>\n      <td>1373</td>\n      <td>Research &amp; Development</td>\n      <td>2</td>\n      <td>2</td>\n      <td>Other</td>\n      <td>1</td>\n      <td>4</td>\n      <td>...</td>\n      <td>2</td>\n      <td>80</td>\n      <td>0</td>\n      <td>7</td>\n      <td>3</td>\n      <td>3</td>\n      <td>0</td>\n      <td>0</td>\n      <td>0</td>\n      <td>0</td>\n    </tr>\n    <tr>\n      <th>3</th>\n      <td>33</td>\n      <td>No</td>\n      <td>Travel_Frequently</td>\n      <td>1392</td>\n      <td>Research &amp; Development</td>\n      <td>3</td>\n      <td>4</td>\n      <td>Life Sciences</td>\n      <td>1</td>\n      <td>5</td>\n      <td>...</td>\n      <td>3</td>\n      <td>80</td>\n      <td>0</td>\n      <td>8</td>\n      <td>3</td>\n      <td>3</td>\n      <td>8</td>\n      <td>7</td>\n      <td>3</td>\n      <td>0</td>\n    </tr>\n    <tr>\n      <th>4</th>\n      <td>27</td>\n      <td>No</td>\n      <td>Travel_Rarely</td>\n      <td>591</td>\n      <td>Research &amp; Development</td>\n      <td>2</td>\n      <td>1</td>\n      <td>Medical</td>\n      <td>1</td>\n      <td>7</td>\n      <td>...</td>\n      <td>4</td>\n      <td>80</td>\n      <td>1</td>\n      <td>6</td>\n      <td>3</td>\n      <td>3</td>\n      <td>2</td>\n      <td>2</td>\n      <td>2</td>\n      <td>2</td>\n    </tr>\n    <tr>\n      <th>5</th>\n      <td>32</td>\n      <td>No</td>\n      <td>Travel_Frequently</td>\n      <td>1005</td>\n      <td>Research &amp; Development</td>\n      <td>2</td>\n      <td>2</td>\n      <td>Life Sciences</td>\n      <td>1</td>\n      <td>8</td>\n      <td>...</td>\n      <td>3</td>\n      <td>80</td>\n      <td>0</td>\n      <td>8</td>\n      <td>2</td>\n      <td>2</td>\n      <td>7</td>\n      <td>7</td>\n      <td>3</td>\n      <td>6</td>\n    </tr>\n    <tr>\n      <th>6</th>\n      <td>59</td>\n      <td>No</td>\n      <td>Travel_Rarely</td>\n      <td>1324</td>\n      <td>Research &amp; Development</td>\n      <td>3</td>\n      <td>3</td>\n      <td>Medical</td>\n      <td>1</td>\n      <td>10</td>\n      <td>...</td>\n      <td>1</td>\n      <td>80</td>\n      <td>3</td>\n      <td>12</td>\n      <td>3</td>\n      <td>2</td>\n      <td>1</td>\n      <td>0</td>\n      <td>0</td>\n      <td>0</td>\n    </tr>\n    <tr>\n      <th>7</th>\n      <td>30</td>\n      <td>No</td>\n      <td>Travel_Rarely</td>\n      <td>1358</td>\n      <td>Research &amp; Development</td>\n      <td>24</td>\n      <td>1</td>\n      <td>Life Sciences</td>\n      <td>1</td>\n      <td>11</td>\n      <td>...</td>\n      <td>2</td>\n      <td>80</td>\n      <td>1</td>\n      <td>1</td>\n      <td>2</td>\n      <td>3</td>\n      <td>1</td>\n      <td>0</td>\n      <td>0</td>\n      <td>0</td>\n    </tr>\n    <tr>\n      <th>8</th>\n      <td>38</td>\n      <td>No</td>\n      <td>Travel_Frequently</td>\n      <td>216</td>\n      <td>Research &amp; Development</td>\n      <td>23</td>\n      <td>3</td>\n      <td>Life Sciences</td>\n      <td>1</td>\n      <td>12</td>\n      <td>...</td>\n      <td>2</td>\n      <td>80</td>\n      <td>0</td>\n      <td>10</td>\n      <td>2</td>\n      <td>3</td>\n      <td>9</td>\n      <td>7</td>\n      <td>1</td>\n      <td>8</td>\n    </tr>\n    <tr>\n      <th>9</th>\n      <td>36</td>\n      <td>No</td>\n      <td>Travel_Rarely</td>\n      <td>1299</td>\n      <td>Research &amp; Development</td>\n      <td>27</td>\n      <td>3</td>\n      <td>Medical</td>\n      <td>1</td>\n      <td>13</td>\n      <td>...</td>\n      <td>2</td>\n      <td>80</td>\n      <td>2</td>\n      <td>17</td>\n      <td>3</td>\n      <td>2</td>\n      <td>7</td>\n      <td>7</td>\n      <td>7</td>\n      <td>7</td>\n    </tr>\n  </tbody>\n</table>\n<p>10 rows × 35 columns</p>\n</div>"
     },
     "metadata": {}
    }
   ],
   "execution_count": 2
  },
  {
   "cell_type": "code",
   "source": "# Data Types\r\nattritionData.info()",
   "metadata": {
    "cell_id": "aa8ce848-c8b6-4e4c-b685-43d3ec7a0414",
    "tags": [],
    "deepnote_to_be_reexecuted": false,
    "source_hash": "a5436913",
    "execution_start": 1646705304690,
    "execution_millis": 50,
    "deepnote_cell_type": "code"
   },
   "outputs": [
    {
     "name": "stdout",
     "text": "<class 'pandas.core.frame.DataFrame'>\nRangeIndex: 1470 entries, 0 to 1469\nData columns (total 35 columns):\n #   Column                    Non-Null Count  Dtype \n---  ------                    --------------  ----- \n 0   Age                       1470 non-null   int64 \n 1   Attrition                 1470 non-null   object\n 2   BusinessTravel            1470 non-null   object\n 3   DailyRate                 1470 non-null   int64 \n 4   Department                1470 non-null   object\n 5   DistanceFromHome          1470 non-null   int64 \n 6   Education                 1470 non-null   int64 \n 7   EducationField            1470 non-null   object\n 8   EmployeeCount             1470 non-null   int64 \n 9   EmployeeNumber            1470 non-null   int64 \n 10  EnvironmentSatisfaction   1470 non-null   int64 \n 11  Gender                    1470 non-null   object\n 12  HourlyRate                1470 non-null   int64 \n 13  JobInvolvement            1470 non-null   int64 \n 14  JobLevel                  1470 non-null   int64 \n 15  JobRole                   1470 non-null   object\n 16  JobSatisfaction           1470 non-null   int64 \n 17  MaritalStatus             1470 non-null   object\n 18  MonthlyIncome             1470 non-null   int64 \n 19  MonthlyRate               1470 non-null   int64 \n 20  NumCompaniesWorked        1470 non-null   int64 \n 21  Over18                    1470 non-null   object\n 22  OverTime                  1470 non-null   object\n 23  PercentSalaryHike         1470 non-null   int64 \n 24  PerformanceRating         1470 non-null   int64 \n 25  RelationshipSatisfaction  1470 non-null   int64 \n 26  StandardHours             1470 non-null   int64 \n 27  StockOptionLevel          1470 non-null   int64 \n 28  TotalWorkingYears         1470 non-null   int64 \n 29  TrainingTimesLastYear     1470 non-null   int64 \n 30  WorkLifeBalance           1470 non-null   int64 \n 31  YearsAtCompany            1470 non-null   int64 \n 32  YearsInCurrentRole        1470 non-null   int64 \n 33  YearsSinceLastPromotion   1470 non-null   int64 \n 34  YearsWithCurrManager      1470 non-null   int64 \ndtypes: int64(26), object(9)\nmemory usage: 402.1+ KB\n",
     "output_type": "stream"
    }
   ],
   "execution_count": 3
  },
  {
   "cell_type": "markdown",
   "source": "---\r\n## Exploratory Data Analysis (Before Cleaning)",
   "metadata": {
    "cell_id": "64eb020f-85ac-490d-bbaa-bf819b51cfd1",
    "tags": [],
    "deepnote_cell_type": "markdown"
   }
  },
  {
   "cell_type": "code",
   "source": "",
   "metadata": {
    "cell_id": "9c4e8608-6b54-4552-aa88-b7cd75abf5e8",
    "tags": [],
    "deepnote_cell_type": "code"
   },
   "outputs": [],
   "execution_count": null
  },
  {
   "cell_type": "code",
   "source": "",
   "metadata": {
    "cell_id": "e8029f98-9b03-42bd-820a-886815abb708",
    "tags": [],
    "deepnote_cell_type": "code"
   },
   "outputs": [],
   "execution_count": null
  },
  {
   "cell_type": "markdown",
   "source": "### Univariate Plots",
   "metadata": {
    "cell_id": "7f720cb6-4dbb-4357-86f0-077ec272601d",
    "tags": [],
    "deepnote_cell_type": "markdown"
   }
  },
  {
   "cell_type": "code",
   "source": "# Segmenting them into Numeric and Categorical Variables\r\nnumeric_columns = list(attritionData.select_dtypes(include=np.number).columns)\r\ncategorical_columns = list(attritionData.select_dtypes(include=\"object\").columns)",
   "metadata": {
    "cell_id": "573d5f7e-01af-48ce-8248-26e9c47ecda7",
    "tags": [],
    "deepnote_to_be_reexecuted": false,
    "source_hash": "9cee8fde",
    "execution_start": 1646705446330,
    "execution_millis": 1,
    "deepnote_cell_type": "code"
   },
   "outputs": [],
   "execution_count": 5
  },
  {
   "cell_type": "code",
   "source": "# Summary Statistics for Categorical\r\nattritionData[categorical_columns].describe()",
   "metadata": {
    "cell_id": "ab27d9a3-b231-4b25-bf1a-cf5aec1088c3",
    "tags": [],
    "deepnote_to_be_reexecuted": false,
    "source_hash": "9781aac7",
    "execution_start": 1646705780744,
    "execution_millis": 173,
    "deepnote_cell_type": "code"
   },
   "outputs": [
    {
     "output_type": "execute_result",
     "execution_count": 14,
     "data": {
      "application/vnd.deepnote.dataframe.v3+json": {
       "column_count": 9,
       "row_count": 4,
       "columns": [
        {
         "name": "Attrition",
         "dtype": "object",
         "stats": {
          "unique_count": 4,
          "nan_count": 0,
          "categories": [
           {
            "name": "1470",
            "count": 1
           },
           {
            "name": "2",
            "count": 1
           },
           {
            "name": "2 others",
            "count": 2
           }
          ]
         }
        },
        {
         "name": "BusinessTravel",
         "dtype": "object",
         "stats": {
          "unique_count": 4,
          "nan_count": 0,
          "categories": [
           {
            "name": "1470",
            "count": 1
           },
           {
            "name": "3",
            "count": 1
           },
           {
            "name": "2 others",
            "count": 2
           }
          ]
         }
        },
        {
         "name": "Department",
         "dtype": "object",
         "stats": {
          "unique_count": 4,
          "nan_count": 0,
          "categories": [
           {
            "name": "1470",
            "count": 1
           },
           {
            "name": "3",
            "count": 1
           },
           {
            "name": "2 others",
            "count": 2
           }
          ]
         }
        },
        {
         "name": "EducationField",
         "dtype": "object",
         "stats": {
          "unique_count": 4,
          "nan_count": 0,
          "categories": [
           {
            "name": "1470",
            "count": 1
           },
           {
            "name": "6",
            "count": 1
           },
           {
            "name": "2 others",
            "count": 2
           }
          ]
         }
        },
        {
         "name": "Gender",
         "dtype": "object",
         "stats": {
          "unique_count": 4,
          "nan_count": 0,
          "categories": [
           {
            "name": "1470",
            "count": 1
           },
           {
            "name": "2",
            "count": 1
           },
           {
            "name": "2 others",
            "count": 2
           }
          ]
         }
        },
        {
         "name": "JobRole",
         "dtype": "object",
         "stats": {
          "unique_count": 4,
          "nan_count": 0,
          "categories": [
           {
            "name": "1470",
            "count": 1
           },
           {
            "name": "9",
            "count": 1
           },
           {
            "name": "2 others",
            "count": 2
           }
          ]
         }
        },
        {
         "name": "MaritalStatus",
         "dtype": "object",
         "stats": {
          "unique_count": 4,
          "nan_count": 0,
          "categories": [
           {
            "name": "1470",
            "count": 1
           },
           {
            "name": "3",
            "count": 1
           },
           {
            "name": "2 others",
            "count": 2
           }
          ]
         }
        },
        {
         "name": "Over18",
         "dtype": "object",
         "stats": {
          "unique_count": 3,
          "nan_count": 0,
          "categories": [
           {
            "name": "1470",
            "count": 2
           },
           {
            "name": "1",
            "count": 1
           },
           {
            "name": "Y",
            "count": 1
           }
          ]
         }
        },
        {
         "name": "OverTime",
         "dtype": "object",
         "stats": {
          "unique_count": 4,
          "nan_count": 0,
          "categories": [
           {
            "name": "1470",
            "count": 1
           },
           {
            "name": "2",
            "count": 1
           },
           {
            "name": "2 others",
            "count": 2
           }
          ]
         }
        },
        {
         "name": "_deepnote_index_column",
         "dtype": "object"
        }
       ],
       "rows": [
        {
         "Attrition": "1470",
         "BusinessTravel": "1470",
         "Department": "1470",
         "EducationField": "1470",
         "Gender": "1470",
         "JobRole": "1470",
         "MaritalStatus": "1470",
         "Over18": "1470",
         "OverTime": "1470",
         "_deepnote_index_column": "count"
        },
        {
         "Attrition": "2",
         "BusinessTravel": "3",
         "Department": "3",
         "EducationField": "6",
         "Gender": "2",
         "JobRole": "9",
         "MaritalStatus": "3",
         "Over18": "1",
         "OverTime": "2",
         "_deepnote_index_column": "unique"
        },
        {
         "Attrition": "No",
         "BusinessTravel": "Travel_Rarely",
         "Department": "Research & Development",
         "EducationField": "Life Sciences",
         "Gender": "Male",
         "JobRole": "Sales Executive",
         "MaritalStatus": "Married",
         "Over18": "Y",
         "OverTime": "No",
         "_deepnote_index_column": "top"
        },
        {
         "Attrition": "1233",
         "BusinessTravel": "1043",
         "Department": "961",
         "EducationField": "606",
         "Gender": "882",
         "JobRole": "326",
         "MaritalStatus": "673",
         "Over18": "1470",
         "OverTime": "1054",
         "_deepnote_index_column": "freq"
        }
       ]
      },
      "text/plain": "       Attrition BusinessTravel              Department EducationField Gender  \\\ncount       1470           1470                    1470           1470   1470   \nunique         2              3                       3              6      2   \ntop           No  Travel_Rarely  Research & Development  Life Sciences   Male   \nfreq        1233           1043                     961            606    882   \n\n                JobRole MaritalStatus Over18 OverTime  \ncount              1470          1470   1470     1470  \nunique                9             3      1        2  \ntop     Sales Executive       Married      Y       No  \nfreq                326           673   1470     1054  ",
      "text/html": "<div>\n<style scoped>\n    .dataframe tbody tr th:only-of-type {\n        vertical-align: middle;\n    }\n\n    .dataframe tbody tr th {\n        vertical-align: top;\n    }\n\n    .dataframe thead th {\n        text-align: right;\n    }\n</style>\n<table border=\"1\" class=\"dataframe\">\n  <thead>\n    <tr style=\"text-align: right;\">\n      <th></th>\n      <th>Attrition</th>\n      <th>BusinessTravel</th>\n      <th>Department</th>\n      <th>EducationField</th>\n      <th>Gender</th>\n      <th>JobRole</th>\n      <th>MaritalStatus</th>\n      <th>Over18</th>\n      <th>OverTime</th>\n    </tr>\n  </thead>\n  <tbody>\n    <tr>\n      <th>count</th>\n      <td>1470</td>\n      <td>1470</td>\n      <td>1470</td>\n      <td>1470</td>\n      <td>1470</td>\n      <td>1470</td>\n      <td>1470</td>\n      <td>1470</td>\n      <td>1470</td>\n    </tr>\n    <tr>\n      <th>unique</th>\n      <td>2</td>\n      <td>3</td>\n      <td>3</td>\n      <td>6</td>\n      <td>2</td>\n      <td>9</td>\n      <td>3</td>\n      <td>1</td>\n      <td>2</td>\n    </tr>\n    <tr>\n      <th>top</th>\n      <td>No</td>\n      <td>Travel_Rarely</td>\n      <td>Research &amp; Development</td>\n      <td>Life Sciences</td>\n      <td>Male</td>\n      <td>Sales Executive</td>\n      <td>Married</td>\n      <td>Y</td>\n      <td>No</td>\n    </tr>\n    <tr>\n      <th>freq</th>\n      <td>1233</td>\n      <td>1043</td>\n      <td>961</td>\n      <td>606</td>\n      <td>882</td>\n      <td>326</td>\n      <td>673</td>\n      <td>1470</td>\n      <td>1054</td>\n    </tr>\n  </tbody>\n</table>\n</div>"
     },
     "metadata": {}
    }
   ],
   "execution_count": 14
  },
  {
   "cell_type": "code",
   "source": "# Summary Statistics for Numeric\r\nattritionData[numeric_columns].describe()",
   "metadata": {
    "cell_id": "6daf0461-4932-425f-bbe1-02244f6419d9",
    "tags": [],
    "deepnote_to_be_reexecuted": false,
    "source_hash": "90b876c8",
    "execution_start": 1646705770409,
    "execution_millis": 417,
    "deepnote_cell_type": "code"
   },
   "outputs": [
    {
     "output_type": "execute_result",
     "execution_count": 13,
     "data": {
      "application/vnd.deepnote.dataframe.v3+json": {
       "column_count": 26,
       "row_count": 8,
       "columns": [
        {
         "name": "Age",
         "dtype": "float64",
         "stats": {
          "unique_count": 8,
          "nan_count": 0,
          "min": "9.135373489136732",
          "max": "1470.0",
          "histogram": [
           {
            "bin_start": 9.135373489136732,
            "bin_end": 155.22183614022305,
            "count": 7
           },
           {
            "bin_start": 155.22183614022305,
            "bin_end": 301.30829879130937,
            "count": 0
           },
           {
            "bin_start": 301.30829879130937,
            "bin_end": 447.3947614423957,
            "count": 0
           },
           {
            "bin_start": 447.3947614423957,
            "bin_end": 593.4812240934821,
            "count": 0
           },
           {
            "bin_start": 593.4812240934821,
            "bin_end": 739.5676867445684,
            "count": 0
           },
           {
            "bin_start": 739.5676867445684,
            "bin_end": 885.6541493956547,
            "count": 0
           },
           {
            "bin_start": 885.6541493956547,
            "bin_end": 1031.740612046741,
            "count": 0
           },
           {
            "bin_start": 1031.740612046741,
            "bin_end": 1177.8270746978274,
            "count": 0
           },
           {
            "bin_start": 1177.8270746978274,
            "bin_end": 1323.9135373489137,
            "count": 0
           },
           {
            "bin_start": 1323.9135373489137,
            "bin_end": 1470,
            "count": 1
           }
          ]
         }
        },
        {
         "name": "DailyRate",
         "dtype": "float64",
         "stats": {
          "unique_count": 8,
          "nan_count": 0,
          "min": "102.0",
          "max": "1499.0",
          "histogram": [
           {
            "bin_start": 102,
            "bin_end": 241.7,
            "count": 1
           },
           {
            "bin_start": 241.7,
            "bin_end": 381.4,
            "count": 0
           },
           {
            "bin_start": 381.4,
            "bin_end": 521.0999999999999,
            "count": 2
           },
           {
            "bin_start": 521.0999999999999,
            "bin_end": 660.8,
            "count": 0
           },
           {
            "bin_start": 660.8,
            "bin_end": 800.5,
            "count": 0
           },
           {
            "bin_start": 800.5,
            "bin_end": 940.1999999999999,
            "count": 2
           },
           {
            "bin_start": 940.1999999999999,
            "bin_end": 1079.8999999999999,
            "count": 0
           },
           {
            "bin_start": 1079.8999999999999,
            "bin_end": 1219.6,
            "count": 1
           },
           {
            "bin_start": 1219.6,
            "bin_end": 1359.3,
            "count": 0
           },
           {
            "bin_start": 1359.3,
            "bin_end": 1499,
            "count": 2
           }
          ]
         }
        },
        {
         "name": "DistanceFromHome",
         "dtype": "float64",
         "stats": {
          "unique_count": 8,
          "nan_count": 0,
          "min": "1.0",
          "max": "1470.0",
          "histogram": [
           {
            "bin_start": 1,
            "bin_end": 147.9,
            "count": 7
           },
           {
            "bin_start": 147.9,
            "bin_end": 294.8,
            "count": 0
           },
           {
            "bin_start": 294.8,
            "bin_end": 441.70000000000005,
            "count": 0
           },
           {
            "bin_start": 441.70000000000005,
            "bin_end": 588.6,
            "count": 0
           },
           {
            "bin_start": 588.6,
            "bin_end": 735.5,
            "count": 0
           },
           {
            "bin_start": 735.5,
            "bin_end": 882.4000000000001,
            "count": 0
           },
           {
            "bin_start": 882.4000000000001,
            "bin_end": 1029.3,
            "count": 0
           },
           {
            "bin_start": 1029.3,
            "bin_end": 1176.2,
            "count": 0
           },
           {
            "bin_start": 1176.2,
            "bin_end": 1323.1000000000001,
            "count": 0
           },
           {
            "bin_start": 1323.1000000000001,
            "bin_end": 1470,
            "count": 1
           }
          ]
         }
        },
        {
         "name": "Education",
         "dtype": "float64",
         "stats": {
          "unique_count": 8,
          "nan_count": 0,
          "min": "1.0",
          "max": "1470.0",
          "histogram": [
           {
            "bin_start": 1,
            "bin_end": 147.9,
            "count": 7
           },
           {
            "bin_start": 147.9,
            "bin_end": 294.8,
            "count": 0
           },
           {
            "bin_start": 294.8,
            "bin_end": 441.70000000000005,
            "count": 0
           },
           {
            "bin_start": 441.70000000000005,
            "bin_end": 588.6,
            "count": 0
           },
           {
            "bin_start": 588.6,
            "bin_end": 735.5,
            "count": 0
           },
           {
            "bin_start": 735.5,
            "bin_end": 882.4000000000001,
            "count": 0
           },
           {
            "bin_start": 882.4000000000001,
            "bin_end": 1029.3,
            "count": 0
           },
           {
            "bin_start": 1029.3,
            "bin_end": 1176.2,
            "count": 0
           },
           {
            "bin_start": 1176.2,
            "bin_end": 1323.1000000000001,
            "count": 0
           },
           {
            "bin_start": 1323.1000000000001,
            "bin_end": 1470,
            "count": 1
           }
          ]
         }
        },
        {
         "name": "EmployeeCount",
         "dtype": "float64",
         "stats": {
          "unique_count": 3,
          "nan_count": 0,
          "min": "0.0",
          "max": "1470.0",
          "histogram": [
           {
            "bin_start": 0,
            "bin_end": 147,
            "count": 7
           },
           {
            "bin_start": 147,
            "bin_end": 294,
            "count": 0
           },
           {
            "bin_start": 294,
            "bin_end": 441,
            "count": 0
           },
           {
            "bin_start": 441,
            "bin_end": 588,
            "count": 0
           },
           {
            "bin_start": 588,
            "bin_end": 735,
            "count": 0
           },
           {
            "bin_start": 735,
            "bin_end": 882,
            "count": 0
           },
           {
            "bin_start": 882,
            "bin_end": 1029,
            "count": 0
           },
           {
            "bin_start": 1029,
            "bin_end": 1176,
            "count": 0
           },
           {
            "bin_start": 1176,
            "bin_end": 1323,
            "count": 0
           },
           {
            "bin_start": 1323,
            "bin_end": 1470,
            "count": 1
           }
          ]
         }
        },
        {
         "name": "EmployeeNumber",
         "dtype": "float64",
         "stats": {
          "unique_count": 8,
          "nan_count": 0,
          "min": "1.0",
          "max": "2068.0",
          "histogram": [
           {
            "bin_start": 1,
            "bin_end": 207.7,
            "count": 1
           },
           {
            "bin_start": 207.7,
            "bin_end": 414.4,
            "count": 0
           },
           {
            "bin_start": 414.4,
            "bin_end": 621.0999999999999,
            "count": 2
           },
           {
            "bin_start": 621.0999999999999,
            "bin_end": 827.8,
            "count": 0
           },
           {
            "bin_start": 827.8,
            "bin_end": 1034.5,
            "count": 2
           },
           {
            "bin_start": 1034.5,
            "bin_end": 1241.1999999999998,
            "count": 0
           },
           {
            "bin_start": 1241.1999999999998,
            "bin_end": 1447.8999999999999,
            "count": 0
           },
           {
            "bin_start": 1447.8999999999999,
            "bin_end": 1654.6,
            "count": 2
           },
           {
            "bin_start": 1654.6,
            "bin_end": 1861.3,
            "count": 0
           },
           {
            "bin_start": 1861.3,
            "bin_end": 2068,
            "count": 1
           }
          ]
         }
        },
        {
         "name": "EnvironmentSatisfaction",
         "dtype": "float64",
         "stats": {
          "unique_count": 7,
          "nan_count": 0,
          "min": "1.0",
          "max": "1470.0",
          "histogram": [
           {
            "bin_start": 1,
            "bin_end": 147.9,
            "count": 7
           },
           {
            "bin_start": 147.9,
            "bin_end": 294.8,
            "count": 0
           },
           {
            "bin_start": 294.8,
            "bin_end": 441.70000000000005,
            "count": 0
           },
           {
            "bin_start": 441.70000000000005,
            "bin_end": 588.6,
            "count": 0
           },
           {
            "bin_start": 588.6,
            "bin_end": 735.5,
            "count": 0
           },
           {
            "bin_start": 735.5,
            "bin_end": 882.4000000000001,
            "count": 0
           },
           {
            "bin_start": 882.4000000000001,
            "bin_end": 1029.3,
            "count": 0
           },
           {
            "bin_start": 1029.3,
            "bin_end": 1176.2,
            "count": 0
           },
           {
            "bin_start": 1176.2,
            "bin_end": 1323.1000000000001,
            "count": 0
           },
           {
            "bin_start": 1323.1000000000001,
            "bin_end": 1470,
            "count": 1
           }
          ]
         }
        },
        {
         "name": "HourlyRate",
         "dtype": "float64",
         "stats": {
          "unique_count": 8,
          "nan_count": 0,
          "min": "20.329427593996165",
          "max": "1470.0",
          "histogram": [
           {
            "bin_start": 20.329427593996165,
            "bin_end": 165.29648483459655,
            "count": 7
           },
           {
            "bin_start": 165.29648483459655,
            "bin_end": 310.26354207519694,
            "count": 0
           },
           {
            "bin_start": 310.26354207519694,
            "bin_end": 455.2305993157973,
            "count": 0
           },
           {
            "bin_start": 455.2305993157973,
            "bin_end": 600.1976565563976,
            "count": 0
           },
           {
            "bin_start": 600.1976565563976,
            "bin_end": 745.1647137969981,
            "count": 0
           },
           {
            "bin_start": 745.1647137969981,
            "bin_end": 890.1317710375984,
            "count": 0
           },
           {
            "bin_start": 890.1317710375984,
            "bin_end": 1035.0988282781989,
            "count": 0
           },
           {
            "bin_start": 1035.0988282781989,
            "bin_end": 1180.0658855187992,
            "count": 0
           },
           {
            "bin_start": 1180.0658855187992,
            "bin_end": 1325.0329427593995,
            "count": 0
           },
           {
            "bin_start": 1325.0329427593995,
            "bin_end": 1470,
            "count": 1
           }
          ]
         }
        },
        {
         "name": "JobInvolvement",
         "dtype": "float64",
         "stats": {
          "unique_count": 7,
          "nan_count": 0,
          "min": "0.7115611429632304",
          "max": "1470.0",
          "histogram": [
           {
            "bin_start": 0.7115611429632304,
            "bin_end": 147.6404050286669,
            "count": 7
           },
           {
            "bin_start": 147.6404050286669,
            "bin_end": 294.5692489143705,
            "count": 0
           },
           {
            "bin_start": 294.5692489143705,
            "bin_end": 441.4980928000742,
            "count": 0
           },
           {
            "bin_start": 441.4980928000742,
            "bin_end": 588.4269366857778,
            "count": 0
           },
           {
            "bin_start": 588.4269366857778,
            "bin_end": 735.3557805714814,
            "count": 0
           },
           {
            "bin_start": 735.3557805714814,
            "bin_end": 882.2846244571851,
            "count": 0
           },
           {
            "bin_start": 882.2846244571851,
            "bin_end": 1029.213468342889,
            "count": 0
           },
           {
            "bin_start": 1029.213468342889,
            "bin_end": 1176.1423122285926,
            "count": 0
           },
           {
            "bin_start": 1176.1423122285926,
            "bin_end": 1323.0711561142962,
            "count": 0
           },
           {
            "bin_start": 1323.0711561142962,
            "bin_end": 1470,
            "count": 1
           }
          ]
         }
        },
        {
         "name": "JobLevel",
         "dtype": "float64",
         "stats": {
          "unique_count": 7,
          "nan_count": 0,
          "min": "1.0",
          "max": "1470.0",
          "histogram": [
           {
            "bin_start": 1,
            "bin_end": 147.9,
            "count": 7
           },
           {
            "bin_start": 147.9,
            "bin_end": 294.8,
            "count": 0
           },
           {
            "bin_start": 294.8,
            "bin_end": 441.70000000000005,
            "count": 0
           },
           {
            "bin_start": 441.70000000000005,
            "bin_end": 588.6,
            "count": 0
           },
           {
            "bin_start": 588.6,
            "bin_end": 735.5,
            "count": 0
           },
           {
            "bin_start": 735.5,
            "bin_end": 882.4000000000001,
            "count": 0
           },
           {
            "bin_start": 882.4000000000001,
            "bin_end": 1029.3,
            "count": 0
           },
           {
            "bin_start": 1029.3,
            "bin_end": 1176.2,
            "count": 0
           },
           {
            "bin_start": 1176.2,
            "bin_end": 1323.1000000000001,
            "count": 0
           },
           {
            "bin_start": 1323.1000000000001,
            "bin_end": 1470,
            "count": 1
           }
          ]
         }
        },
        {
         "name": "JobSatisfaction",
         "dtype": "float64",
         "stats": {
          "unique_count": 7,
          "nan_count": 0,
          "min": "1.0",
          "max": "1470.0",
          "histogram": [
           {
            "bin_start": 1,
            "bin_end": 147.9,
            "count": 7
           },
           {
            "bin_start": 147.9,
            "bin_end": 294.8,
            "count": 0
           },
           {
            "bin_start": 294.8,
            "bin_end": 441.70000000000005,
            "count": 0
           },
           {
            "bin_start": 441.70000000000005,
            "bin_end": 588.6,
            "count": 0
           },
           {
            "bin_start": 588.6,
            "bin_end": 735.5,
            "count": 0
           },
           {
            "bin_start": 735.5,
            "bin_end": 882.4000000000001,
            "count": 0
           },
           {
            "bin_start": 882.4000000000001,
            "bin_end": 1029.3,
            "count": 0
           },
           {
            "bin_start": 1029.3,
            "bin_end": 1176.2,
            "count": 0
           },
           {
            "bin_start": 1176.2,
            "bin_end": 1323.1000000000001,
            "count": 0
           },
           {
            "bin_start": 1323.1000000000001,
            "bin_end": 1470,
            "count": 1
           }
          ]
         }
        },
        {
         "name": "MonthlyIncome",
         "dtype": "float64",
         "stats": {
          "unique_count": 8,
          "nan_count": 0,
          "min": "1009.0",
          "max": "19999.0",
          "histogram": [
           {
            "bin_start": 1009,
            "bin_end": 2908,
            "count": 2
           },
           {
            "bin_start": 2908,
            "bin_end": 4807,
            "count": 2
           },
           {
            "bin_start": 4807,
            "bin_end": 6706,
            "count": 2
           },
           {
            "bin_start": 6706,
            "bin_end": 8605,
            "count": 1
           },
           {
            "bin_start": 8605,
            "bin_end": 10504,
            "count": 0
           },
           {
            "bin_start": 10504,
            "bin_end": 12403,
            "count": 0
           },
           {
            "bin_start": 12403,
            "bin_end": 14302,
            "count": 0
           },
           {
            "bin_start": 14302,
            "bin_end": 16201,
            "count": 0
           },
           {
            "bin_start": 16201,
            "bin_end": 18100,
            "count": 0
           },
           {
            "bin_start": 18100,
            "bin_end": 19999,
            "count": 1
           }
          ]
         }
        },
        {
         "name": "MonthlyRate",
         "dtype": "float64",
         "stats": {
          "unique_count": 8,
          "nan_count": 0,
          "min": "1470.0",
          "max": "26999.0",
          "histogram": [
           {
            "bin_start": 1470,
            "bin_end": 4022.9,
            "count": 2
           },
           {
            "bin_start": 4022.9,
            "bin_end": 6575.8,
            "count": 0
           },
           {
            "bin_start": 6575.8,
            "bin_end": 9128.7,
            "count": 2
           },
           {
            "bin_start": 9128.7,
            "bin_end": 11681.6,
            "count": 0
           },
           {
            "bin_start": 11681.6,
            "bin_end": 14234.5,
            "count": 0
           },
           {
            "bin_start": 14234.5,
            "bin_end": 16787.4,
            "count": 2
           },
           {
            "bin_start": 16787.4,
            "bin_end": 19340.3,
            "count": 0
           },
           {
            "bin_start": 19340.3,
            "bin_end": 21893.2,
            "count": 1
           },
           {
            "bin_start": 21893.2,
            "bin_end": 24446.100000000002,
            "count": 0
           },
           {
            "bin_start": 24446.100000000002,
            "bin_end": 26999,
            "count": 1
           }
          ]
         }
        },
        {
         "name": "NumCompaniesWorked",
         "dtype": "float64",
         "stats": {
          "unique_count": 8,
          "nan_count": 0,
          "min": "0.0",
          "max": "1470.0",
          "histogram": [
           {
            "bin_start": 0,
            "bin_end": 147,
            "count": 7
           },
           {
            "bin_start": 147,
            "bin_end": 294,
            "count": 0
           },
           {
            "bin_start": 294,
            "bin_end": 441,
            "count": 0
           },
           {
            "bin_start": 441,
            "bin_end": 588,
            "count": 0
           },
           {
            "bin_start": 588,
            "bin_end": 735,
            "count": 0
           },
           {
            "bin_start": 735,
            "bin_end": 882,
            "count": 0
           },
           {
            "bin_start": 882,
            "bin_end": 1029,
            "count": 0
           },
           {
            "bin_start": 1029,
            "bin_end": 1176,
            "count": 0
           },
           {
            "bin_start": 1176,
            "bin_end": 1323,
            "count": 0
           },
           {
            "bin_start": 1323,
            "bin_end": 1470,
            "count": 1
           }
          ]
         }
        },
        {
         "name": "PercentSalaryHike",
         "dtype": "float64",
         "stats": {
          "unique_count": 8,
          "nan_count": 0,
          "min": "3.6599377165396407",
          "max": "1470.0",
          "histogram": [
           {
            "bin_start": 3.6599377165396407,
            "bin_end": 150.29394394488568,
            "count": 7
           },
           {
            "bin_start": 150.29394394488568,
            "bin_end": 296.9279501732317,
            "count": 0
           },
           {
            "bin_start": 296.9279501732317,
            "bin_end": 443.56195640157773,
            "count": 0
           },
           {
            "bin_start": 443.56195640157773,
            "bin_end": 590.1959626299238,
            "count": 0
           },
           {
            "bin_start": 590.1959626299238,
            "bin_end": 736.8299688582698,
            "count": 0
           },
           {
            "bin_start": 736.8299688582698,
            "bin_end": 883.4639750866158,
            "count": 0
           },
           {
            "bin_start": 883.4639750866158,
            "bin_end": 1030.0979813149618,
            "count": 0
           },
           {
            "bin_start": 1030.0979813149618,
            "bin_end": 1176.731987543308,
            "count": 0
           },
           {
            "bin_start": 1176.731987543308,
            "bin_end": 1323.365993771654,
            "count": 0
           },
           {
            "bin_start": 1323.365993771654,
            "bin_end": 1470,
            "count": 1
           }
          ]
         }
        },
        {
         "name": "PerformanceRating",
         "dtype": "float64",
         "stats": {
          "unique_count": 5,
          "nan_count": 0,
          "min": "0.36082352460434397",
          "max": "1470.0",
          "histogram": [
           {
            "bin_start": 0.36082352460434397,
            "bin_end": 147.32474117214392,
            "count": 7
           },
           {
            "bin_start": 147.32474117214392,
            "bin_end": 294.2886588196835,
            "count": 0
           },
           {
            "bin_start": 294.2886588196835,
            "bin_end": 441.2525764672231,
            "count": 0
           },
           {
            "bin_start": 441.2525764672231,
            "bin_end": 588.2164941147627,
            "count": 0
           },
           {
            "bin_start": 588.2164941147627,
            "bin_end": 735.1804117623022,
            "count": 0
           },
           {
            "bin_start": 735.1804117623022,
            "bin_end": 882.1443294098418,
            "count": 0
           },
           {
            "bin_start": 882.1443294098418,
            "bin_end": 1029.1082470573813,
            "count": 0
           },
           {
            "bin_start": 1029.1082470573813,
            "bin_end": 1176.0721647049209,
            "count": 0
           },
           {
            "bin_start": 1176.0721647049209,
            "bin_end": 1323.0360823524604,
            "count": 0
           },
           {
            "bin_start": 1323.0360823524604,
            "bin_end": 1470,
            "count": 1
           }
          ]
         }
        },
        {
         "name": "RelationshipSatisfaction",
         "dtype": "float64",
         "stats": {
          "unique_count": 7,
          "nan_count": 0,
          "min": "1.0",
          "max": "1470.0",
          "histogram": [
           {
            "bin_start": 1,
            "bin_end": 147.9,
            "count": 7
           },
           {
            "bin_start": 147.9,
            "bin_end": 294.8,
            "count": 0
           },
           {
            "bin_start": 294.8,
            "bin_end": 441.70000000000005,
            "count": 0
           },
           {
            "bin_start": 441.70000000000005,
            "bin_end": 588.6,
            "count": 0
           },
           {
            "bin_start": 588.6,
            "bin_end": 735.5,
            "count": 0
           },
           {
            "bin_start": 735.5,
            "bin_end": 882.4000000000001,
            "count": 0
           },
           {
            "bin_start": 882.4000000000001,
            "bin_end": 1029.3,
            "count": 0
           },
           {
            "bin_start": 1029.3,
            "bin_end": 1176.2,
            "count": 0
           },
           {
            "bin_start": 1176.2,
            "bin_end": 1323.1000000000001,
            "count": 0
           },
           {
            "bin_start": 1323.1000000000001,
            "bin_end": 1470,
            "count": 1
           }
          ]
         }
        },
        {
         "name": "StandardHours",
         "dtype": "float64",
         "stats": {
          "unique_count": 3,
          "nan_count": 0,
          "min": "0.0",
          "max": "1470.0",
          "histogram": [
           {
            "bin_start": 0,
            "bin_end": 147,
            "count": 7
           },
           {
            "bin_start": 147,
            "bin_end": 294,
            "count": 0
           },
           {
            "bin_start": 294,
            "bin_end": 441,
            "count": 0
           },
           {
            "bin_start": 441,
            "bin_end": 588,
            "count": 0
           },
           {
            "bin_start": 588,
            "bin_end": 735,
            "count": 0
           },
           {
            "bin_start": 735,
            "bin_end": 882,
            "count": 0
           },
           {
            "bin_start": 882,
            "bin_end": 1029,
            "count": 0
           },
           {
            "bin_start": 1029,
            "bin_end": 1176,
            "count": 0
           },
           {
            "bin_start": 1176,
            "bin_end": 1323,
            "count": 0
           },
           {
            "bin_start": 1323,
            "bin_end": 1470,
            "count": 1
           }
          ]
         }
        },
        {
         "name": "StockOptionLevel",
         "dtype": "float64",
         "stats": {
          "unique_count": 6,
          "nan_count": 0,
          "min": "0.0",
          "max": "1470.0",
          "histogram": [
           {
            "bin_start": 0,
            "bin_end": 147,
            "count": 7
           },
           {
            "bin_start": 147,
            "bin_end": 294,
            "count": 0
           },
           {
            "bin_start": 294,
            "bin_end": 441,
            "count": 0
           },
           {
            "bin_start": 441,
            "bin_end": 588,
            "count": 0
           },
           {
            "bin_start": 588,
            "bin_end": 735,
            "count": 0
           },
           {
            "bin_start": 735,
            "bin_end": 882,
            "count": 0
           },
           {
            "bin_start": 882,
            "bin_end": 1029,
            "count": 0
           },
           {
            "bin_start": 1029,
            "bin_end": 1176,
            "count": 0
           },
           {
            "bin_start": 1176,
            "bin_end": 1323,
            "count": 0
           },
           {
            "bin_start": 1323,
            "bin_end": 1470,
            "count": 1
           }
          ]
         }
        },
        {
         "name": "TotalWorkingYears",
         "dtype": "float64",
         "stats": {
          "unique_count": 8,
          "nan_count": 0,
          "min": "0.0",
          "max": "1470.0",
          "histogram": [
           {
            "bin_start": 0,
            "bin_end": 147,
            "count": 7
           },
           {
            "bin_start": 147,
            "bin_end": 294,
            "count": 0
           },
           {
            "bin_start": 294,
            "bin_end": 441,
            "count": 0
           },
           {
            "bin_start": 441,
            "bin_end": 588,
            "count": 0
           },
           {
            "bin_start": 588,
            "bin_end": 735,
            "count": 0
           },
           {
            "bin_start": 735,
            "bin_end": 882,
            "count": 0
           },
           {
            "bin_start": 882,
            "bin_end": 1029,
            "count": 0
           },
           {
            "bin_start": 1029,
            "bin_end": 1176,
            "count": 0
           },
           {
            "bin_start": 1176,
            "bin_end": 1323,
            "count": 0
           },
           {
            "bin_start": 1323,
            "bin_end": 1470,
            "count": 1
           }
          ]
         }
        },
        {
         "name": "TrainingTimesLastYear",
         "dtype": "float64",
         "stats": {
          "unique_count": 7,
          "nan_count": 0,
          "min": "0.0",
          "max": "1470.0",
          "histogram": [
           {
            "bin_start": 0,
            "bin_end": 147,
            "count": 7
           },
           {
            "bin_start": 147,
            "bin_end": 294,
            "count": 0
           },
           {
            "bin_start": 294,
            "bin_end": 441,
            "count": 0
           },
           {
            "bin_start": 441,
            "bin_end": 588,
            "count": 0
           },
           {
            "bin_start": 588,
            "bin_end": 735,
            "count": 0
           },
           {
            "bin_start": 735,
            "bin_end": 882,
            "count": 0
           },
           {
            "bin_start": 882,
            "bin_end": 1029,
            "count": 0
           },
           {
            "bin_start": 1029,
            "bin_end": 1176,
            "count": 0
           },
           {
            "bin_start": 1176,
            "bin_end": 1323,
            "count": 0
           },
           {
            "bin_start": 1323,
            "bin_end": 1470,
            "count": 1
           }
          ]
         }
        },
        {
         "name": "WorkLifeBalance",
         "dtype": "float64",
         "stats": {
          "unique_count": 7,
          "nan_count": 0,
          "min": "0.7064758297141507",
          "max": "1470.0",
          "histogram": [
           {
            "bin_start": 0.7064758297141507,
            "bin_end": 147.63582824674273,
            "count": 7
           },
           {
            "bin_start": 147.63582824674273,
            "bin_end": 294.5651806637713,
            "count": 0
           },
           {
            "bin_start": 294.5651806637713,
            "bin_end": 441.4945330807999,
            "count": 0
           },
           {
            "bin_start": 441.4945330807999,
            "bin_end": 588.4238854978285,
            "count": 0
           },
           {
            "bin_start": 588.4238854978285,
            "bin_end": 735.353237914857,
            "count": 0
           },
           {
            "bin_start": 735.353237914857,
            "bin_end": 882.2825903318857,
            "count": 0
           },
           {
            "bin_start": 882.2825903318857,
            "bin_end": 1029.2119427489142,
            "count": 0
           },
           {
            "bin_start": 1029.2119427489142,
            "bin_end": 1176.141295165943,
            "count": 0
           },
           {
            "bin_start": 1176.141295165943,
            "bin_end": 1323.0706475829716,
            "count": 0
           },
           {
            "bin_start": 1323.0706475829716,
            "bin_end": 1470,
            "count": 1
           }
          ]
         }
        },
        {
         "name": "YearsAtCompany",
         "dtype": "float64",
         "stats": {
          "unique_count": 8,
          "nan_count": 0,
          "min": "0.0",
          "max": "1470.0",
          "histogram": [
           {
            "bin_start": 0,
            "bin_end": 147,
            "count": 7
           },
           {
            "bin_start": 147,
            "bin_end": 294,
            "count": 0
           },
           {
            "bin_start": 294,
            "bin_end": 441,
            "count": 0
           },
           {
            "bin_start": 441,
            "bin_end": 588,
            "count": 0
           },
           {
            "bin_start": 588,
            "bin_end": 735,
            "count": 0
           },
           {
            "bin_start": 735,
            "bin_end": 882,
            "count": 0
           },
           {
            "bin_start": 882,
            "bin_end": 1029,
            "count": 0
           },
           {
            "bin_start": 1029,
            "bin_end": 1176,
            "count": 0
           },
           {
            "bin_start": 1176,
            "bin_end": 1323,
            "count": 0
           },
           {
            "bin_start": 1323,
            "bin_end": 1470,
            "count": 1
           }
          ]
         }
        },
        {
         "name": "YearsInCurrentRole",
         "dtype": "float64",
         "stats": {
          "unique_count": 8,
          "nan_count": 0,
          "min": "0.0",
          "max": "1470.0",
          "histogram": [
           {
            "bin_start": 0,
            "bin_end": 147,
            "count": 7
           },
           {
            "bin_start": 147,
            "bin_end": 294,
            "count": 0
           },
           {
            "bin_start": 294,
            "bin_end": 441,
            "count": 0
           },
           {
            "bin_start": 441,
            "bin_end": 588,
            "count": 0
           },
           {
            "bin_start": 588,
            "bin_end": 735,
            "count": 0
           },
           {
            "bin_start": 735,
            "bin_end": 882,
            "count": 0
           },
           {
            "bin_start": 882,
            "bin_end": 1029,
            "count": 0
           },
           {
            "bin_start": 1029,
            "bin_end": 1176,
            "count": 0
           },
           {
            "bin_start": 1176,
            "bin_end": 1323,
            "count": 0
           },
           {
            "bin_start": 1323,
            "bin_end": 1470,
            "count": 1
           }
          ]
         }
        },
        {
         "name": "YearsSinceLastPromotion",
         "dtype": "float64",
         "stats": {
          "unique_count": 7,
          "nan_count": 0,
          "min": "0.0",
          "max": "1470.0",
          "histogram": [
           {
            "bin_start": 0,
            "bin_end": 147,
            "count": 7
           },
           {
            "bin_start": 147,
            "bin_end": 294,
            "count": 0
           },
           {
            "bin_start": 294,
            "bin_end": 441,
            "count": 0
           },
           {
            "bin_start": 441,
            "bin_end": 588,
            "count": 0
           },
           {
            "bin_start": 588,
            "bin_end": 735,
            "count": 0
           },
           {
            "bin_start": 735,
            "bin_end": 882,
            "count": 0
           },
           {
            "bin_start": 882,
            "bin_end": 1029,
            "count": 0
           },
           {
            "bin_start": 1029,
            "bin_end": 1176,
            "count": 0
           },
           {
            "bin_start": 1176,
            "bin_end": 1323,
            "count": 0
           },
           {
            "bin_start": 1323,
            "bin_end": 1470,
            "count": 1
           }
          ]
         }
        },
        {
         "name": "YearsWithCurrManager",
         "dtype": "float64",
         "stats": {
          "unique_count": 8,
          "nan_count": 0,
          "min": "0.0",
          "max": "1470.0",
          "histogram": [
           {
            "bin_start": 0,
            "bin_end": 147,
            "count": 7
           },
           {
            "bin_start": 147,
            "bin_end": 294,
            "count": 0
           },
           {
            "bin_start": 294,
            "bin_end": 441,
            "count": 0
           },
           {
            "bin_start": 441,
            "bin_end": 588,
            "count": 0
           },
           {
            "bin_start": 588,
            "bin_end": 735,
            "count": 0
           },
           {
            "bin_start": 735,
            "bin_end": 882,
            "count": 0
           },
           {
            "bin_start": 882,
            "bin_end": 1029,
            "count": 0
           },
           {
            "bin_start": 1029,
            "bin_end": 1176,
            "count": 0
           },
           {
            "bin_start": 1176,
            "bin_end": 1323,
            "count": 0
           },
           {
            "bin_start": 1323,
            "bin_end": 1470,
            "count": 1
           }
          ]
         }
        },
        {
         "name": "_deepnote_index_column",
         "dtype": "object"
        }
       ],
       "rows": [
        {
         "Age": 1470,
         "DailyRate": 1470,
         "DistanceFromHome": 1470,
         "Education": 1470,
         "EmployeeCount": 1470,
         "EmployeeNumber": 1470,
         "EnvironmentSatisfaction": 1470,
         "HourlyRate": 1470,
         "JobInvolvement": 1470,
         "JobLevel": 1470,
         "JobSatisfaction": 1470,
         "MonthlyIncome": 1470,
         "MonthlyRate": 1470,
         "NumCompaniesWorked": 1470,
         "PercentSalaryHike": 1470,
         "PerformanceRating": 1470,
         "RelationshipSatisfaction": 1470,
         "StandardHours": 1470,
         "StockOptionLevel": 1470,
         "TotalWorkingYears": 1470,
         "TrainingTimesLastYear": 1470,
         "WorkLifeBalance": 1470,
         "YearsAtCompany": 1470,
         "YearsInCurrentRole": 1470,
         "YearsSinceLastPromotion": 1470,
         "YearsWithCurrManager": 1470,
         "_deepnote_index_column": "count"
        },
        {
         "Age": 36.923809523809524,
         "DailyRate": 802.4857142857143,
         "DistanceFromHome": 9.19251700680272,
         "Education": 2.912925170068027,
         "EmployeeCount": 1,
         "EmployeeNumber": 1024.865306122449,
         "EnvironmentSatisfaction": 2.721768707482993,
         "HourlyRate": 65.89115646258503,
         "JobInvolvement": 2.7299319727891156,
         "JobLevel": 2.0639455782312925,
         "JobSatisfaction": 2.7285714285714286,
         "MonthlyIncome": 6502.931292517007,
         "MonthlyRate": 14313.103401360544,
         "NumCompaniesWorked": 2.6931972789115646,
         "PercentSalaryHike": 15.209523809523809,
         "PerformanceRating": 3.1537414965986397,
         "RelationshipSatisfaction": 2.7122448979591836,
         "StandardHours": 80,
         "StockOptionLevel": 0.7938775510204081,
         "TotalWorkingYears": 11.279591836734694,
         "TrainingTimesLastYear": 2.7993197278911564,
         "WorkLifeBalance": 2.7612244897959184,
         "YearsAtCompany": 7.0081632653061225,
         "YearsInCurrentRole": 4.229251700680272,
         "YearsSinceLastPromotion": 2.1877551020408164,
         "YearsWithCurrManager": 4.12312925170068,
         "_deepnote_index_column": "mean"
        },
        {
         "Age": 9.135373489136732,
         "DailyRate": 403.50909994352816,
         "DistanceFromHome": 8.106864435666074,
         "Education": 1.0241649445978729,
         "EmployeeCount": 0,
         "EmployeeNumber": 602.0243348474751,
         "EnvironmentSatisfaction": 1.0930822146350005,
         "HourlyRate": 20.329427593996165,
         "JobInvolvement": 0.7115611429632304,
         "JobLevel": 1.106939898935122,
         "JobSatisfaction": 1.1028461230547204,
         "MonthlyIncome": 4707.956783097994,
         "MonthlyRate": 7117.786044059976,
         "NumCompaniesWorked": 2.498009006070747,
         "PercentSalaryHike": 3.6599377165396407,
         "PerformanceRating": 0.36082352460434397,
         "RelationshipSatisfaction": 1.0812088864403524,
         "StandardHours": 0,
         "StockOptionLevel": 0.852076667930838,
         "TotalWorkingYears": 7.780781675514997,
         "TrainingTimesLastYear": 1.2892706207958455,
         "WorkLifeBalance": 0.7064758297141507,
         "YearsAtCompany": 6.126525152403569,
         "YearsInCurrentRole": 3.623137034670628,
         "YearsSinceLastPromotion": 3.222430279137967,
         "YearsWithCurrManager": 3.5681361205404376,
         "_deepnote_index_column": "std"
        },
        {
         "Age": 18,
         "DailyRate": 102,
         "DistanceFromHome": 1,
         "Education": 1,
         "EmployeeCount": 1,
         "EmployeeNumber": 1,
         "EnvironmentSatisfaction": 1,
         "HourlyRate": 30,
         "JobInvolvement": 1,
         "JobLevel": 1,
         "JobSatisfaction": 1,
         "MonthlyIncome": 1009,
         "MonthlyRate": 2094,
         "NumCompaniesWorked": 0,
         "PercentSalaryHike": 11,
         "PerformanceRating": 3,
         "RelationshipSatisfaction": 1,
         "StandardHours": 80,
         "StockOptionLevel": 0,
         "TotalWorkingYears": 0,
         "TrainingTimesLastYear": 0,
         "WorkLifeBalance": 1,
         "YearsAtCompany": 0,
         "YearsInCurrentRole": 0,
         "YearsSinceLastPromotion": 0,
         "YearsWithCurrManager": 0,
         "_deepnote_index_column": "min"
        },
        {
         "Age": 30,
         "DailyRate": 465,
         "DistanceFromHome": 2,
         "Education": 2,
         "EmployeeCount": 1,
         "EmployeeNumber": 491.25,
         "EnvironmentSatisfaction": 2,
         "HourlyRate": 48,
         "JobInvolvement": 2,
         "JobLevel": 1,
         "JobSatisfaction": 2,
         "MonthlyIncome": 2911,
         "MonthlyRate": 8047,
         "NumCompaniesWorked": 1,
         "PercentSalaryHike": 12,
         "PerformanceRating": 3,
         "RelationshipSatisfaction": 2,
         "StandardHours": 80,
         "StockOptionLevel": 0,
         "TotalWorkingYears": 6,
         "TrainingTimesLastYear": 2,
         "WorkLifeBalance": 2,
         "YearsAtCompany": 3,
         "YearsInCurrentRole": 2,
         "YearsSinceLastPromotion": 0,
         "YearsWithCurrManager": 2,
         "_deepnote_index_column": "25%"
        },
        {
         "Age": 36,
         "DailyRate": 802,
         "DistanceFromHome": 7,
         "Education": 3,
         "EmployeeCount": 1,
         "EmployeeNumber": 1020.5,
         "EnvironmentSatisfaction": 3,
         "HourlyRate": 66,
         "JobInvolvement": 3,
         "JobLevel": 2,
         "JobSatisfaction": 3,
         "MonthlyIncome": 4919,
         "MonthlyRate": 14235.5,
         "NumCompaniesWorked": 2,
         "PercentSalaryHike": 14,
         "PerformanceRating": 3,
         "RelationshipSatisfaction": 3,
         "StandardHours": 80,
         "StockOptionLevel": 1,
         "TotalWorkingYears": 10,
         "TrainingTimesLastYear": 3,
         "WorkLifeBalance": 3,
         "YearsAtCompany": 5,
         "YearsInCurrentRole": 3,
         "YearsSinceLastPromotion": 1,
         "YearsWithCurrManager": 3,
         "_deepnote_index_column": "50%"
        },
        {
         "Age": 43,
         "DailyRate": 1157,
         "DistanceFromHome": 14,
         "Education": 4,
         "EmployeeCount": 1,
         "EmployeeNumber": 1555.75,
         "EnvironmentSatisfaction": 4,
         "HourlyRate": 83.75,
         "JobInvolvement": 3,
         "JobLevel": 3,
         "JobSatisfaction": 4,
         "MonthlyIncome": 8379,
         "MonthlyRate": 20461.5,
         "NumCompaniesWorked": 4,
         "PercentSalaryHike": 18,
         "PerformanceRating": 3,
         "RelationshipSatisfaction": 4,
         "StandardHours": 80,
         "StockOptionLevel": 1,
         "TotalWorkingYears": 15,
         "TrainingTimesLastYear": 3,
         "WorkLifeBalance": 3,
         "YearsAtCompany": 9,
         "YearsInCurrentRole": 7,
         "YearsSinceLastPromotion": 3,
         "YearsWithCurrManager": 7,
         "_deepnote_index_column": "75%"
        },
        {
         "Age": 60,
         "DailyRate": 1499,
         "DistanceFromHome": 29,
         "Education": 5,
         "EmployeeCount": 1,
         "EmployeeNumber": 2068,
         "EnvironmentSatisfaction": 4,
         "HourlyRate": 100,
         "JobInvolvement": 4,
         "JobLevel": 5,
         "JobSatisfaction": 4,
         "MonthlyIncome": 19999,
         "MonthlyRate": 26999,
         "NumCompaniesWorked": 9,
         "PercentSalaryHike": 25,
         "PerformanceRating": 4,
         "RelationshipSatisfaction": 4,
         "StandardHours": 80,
         "StockOptionLevel": 3,
         "TotalWorkingYears": 40,
         "TrainingTimesLastYear": 6,
         "WorkLifeBalance": 4,
         "YearsAtCompany": 40,
         "YearsInCurrentRole": 18,
         "YearsSinceLastPromotion": 15,
         "YearsWithCurrManager": 17,
         "_deepnote_index_column": "max"
        }
       ]
      },
      "text/plain": "               Age    DailyRate  DistanceFromHome    Education  EmployeeCount  \\\ncount  1470.000000  1470.000000       1470.000000  1470.000000         1470.0   \nmean     36.923810   802.485714          9.192517     2.912925            1.0   \nstd       9.135373   403.509100          8.106864     1.024165            0.0   \nmin      18.000000   102.000000          1.000000     1.000000            1.0   \n25%      30.000000   465.000000          2.000000     2.000000            1.0   \n50%      36.000000   802.000000          7.000000     3.000000            1.0   \n75%      43.000000  1157.000000         14.000000     4.000000            1.0   \nmax      60.000000  1499.000000         29.000000     5.000000            1.0   \n\n       EmployeeNumber  EnvironmentSatisfaction   HourlyRate  JobInvolvement  \\\ncount     1470.000000              1470.000000  1470.000000     1470.000000   \nmean      1024.865306                 2.721769    65.891156        2.729932   \nstd        602.024335                 1.093082    20.329428        0.711561   \nmin          1.000000                 1.000000    30.000000        1.000000   \n25%        491.250000                 2.000000    48.000000        2.000000   \n50%       1020.500000                 3.000000    66.000000        3.000000   \n75%       1555.750000                 4.000000    83.750000        3.000000   \nmax       2068.000000                 4.000000   100.000000        4.000000   \n\n          JobLevel  ...  RelationshipSatisfaction  StandardHours  \\\ncount  1470.000000  ...               1470.000000         1470.0   \nmean      2.063946  ...                  2.712245           80.0   \nstd       1.106940  ...                  1.081209            0.0   \nmin       1.000000  ...                  1.000000           80.0   \n25%       1.000000  ...                  2.000000           80.0   \n50%       2.000000  ...                  3.000000           80.0   \n75%       3.000000  ...                  4.000000           80.0   \nmax       5.000000  ...                  4.000000           80.0   \n\n       StockOptionLevel  TotalWorkingYears  TrainingTimesLastYear  \\\ncount       1470.000000        1470.000000            1470.000000   \nmean           0.793878          11.279592               2.799320   \nstd            0.852077           7.780782               1.289271   \nmin            0.000000           0.000000               0.000000   \n25%            0.000000           6.000000               2.000000   \n50%            1.000000          10.000000               3.000000   \n75%            1.000000          15.000000               3.000000   \nmax            3.000000          40.000000               6.000000   \n\n       WorkLifeBalance  YearsAtCompany  YearsInCurrentRole  \\\ncount      1470.000000     1470.000000         1470.000000   \nmean          2.761224        7.008163            4.229252   \nstd           0.706476        6.126525            3.623137   \nmin           1.000000        0.000000            0.000000   \n25%           2.000000        3.000000            2.000000   \n50%           3.000000        5.000000            3.000000   \n75%           3.000000        9.000000            7.000000   \nmax           4.000000       40.000000           18.000000   \n\n       YearsSinceLastPromotion  YearsWithCurrManager  \ncount              1470.000000           1470.000000  \nmean                  2.187755              4.123129  \nstd                   3.222430              3.568136  \nmin                   0.000000              0.000000  \n25%                   0.000000              2.000000  \n50%                   1.000000              3.000000  \n75%                   3.000000              7.000000  \nmax                  15.000000             17.000000  \n\n[8 rows x 26 columns]",
      "text/html": "<div>\n<style scoped>\n    .dataframe tbody tr th:only-of-type {\n        vertical-align: middle;\n    }\n\n    .dataframe tbody tr th {\n        vertical-align: top;\n    }\n\n    .dataframe thead th {\n        text-align: right;\n    }\n</style>\n<table border=\"1\" class=\"dataframe\">\n  <thead>\n    <tr style=\"text-align: right;\">\n      <th></th>\n      <th>Age</th>\n      <th>DailyRate</th>\n      <th>DistanceFromHome</th>\n      <th>Education</th>\n      <th>EmployeeCount</th>\n      <th>EmployeeNumber</th>\n      <th>EnvironmentSatisfaction</th>\n      <th>HourlyRate</th>\n      <th>JobInvolvement</th>\n      <th>JobLevel</th>\n      <th>...</th>\n      <th>RelationshipSatisfaction</th>\n      <th>StandardHours</th>\n      <th>StockOptionLevel</th>\n      <th>TotalWorkingYears</th>\n      <th>TrainingTimesLastYear</th>\n      <th>WorkLifeBalance</th>\n      <th>YearsAtCompany</th>\n      <th>YearsInCurrentRole</th>\n      <th>YearsSinceLastPromotion</th>\n      <th>YearsWithCurrManager</th>\n    </tr>\n  </thead>\n  <tbody>\n    <tr>\n      <th>count</th>\n      <td>1470.000000</td>\n      <td>1470.000000</td>\n      <td>1470.000000</td>\n      <td>1470.000000</td>\n      <td>1470.0</td>\n      <td>1470.000000</td>\n      <td>1470.000000</td>\n      <td>1470.000000</td>\n      <td>1470.000000</td>\n      <td>1470.000000</td>\n      <td>...</td>\n      <td>1470.000000</td>\n      <td>1470.0</td>\n      <td>1470.000000</td>\n      <td>1470.000000</td>\n      <td>1470.000000</td>\n      <td>1470.000000</td>\n      <td>1470.000000</td>\n      <td>1470.000000</td>\n      <td>1470.000000</td>\n      <td>1470.000000</td>\n    </tr>\n    <tr>\n      <th>mean</th>\n      <td>36.923810</td>\n      <td>802.485714</td>\n      <td>9.192517</td>\n      <td>2.912925</td>\n      <td>1.0</td>\n      <td>1024.865306</td>\n      <td>2.721769</td>\n      <td>65.891156</td>\n      <td>2.729932</td>\n      <td>2.063946</td>\n      <td>...</td>\n      <td>2.712245</td>\n      <td>80.0</td>\n      <td>0.793878</td>\n      <td>11.279592</td>\n      <td>2.799320</td>\n      <td>2.761224</td>\n      <td>7.008163</td>\n      <td>4.229252</td>\n      <td>2.187755</td>\n      <td>4.123129</td>\n    </tr>\n    <tr>\n      <th>std</th>\n      <td>9.135373</td>\n      <td>403.509100</td>\n      <td>8.106864</td>\n      <td>1.024165</td>\n      <td>0.0</td>\n      <td>602.024335</td>\n      <td>1.093082</td>\n      <td>20.329428</td>\n      <td>0.711561</td>\n      <td>1.106940</td>\n      <td>...</td>\n      <td>1.081209</td>\n      <td>0.0</td>\n      <td>0.852077</td>\n      <td>7.780782</td>\n      <td>1.289271</td>\n      <td>0.706476</td>\n      <td>6.126525</td>\n      <td>3.623137</td>\n      <td>3.222430</td>\n      <td>3.568136</td>\n    </tr>\n    <tr>\n      <th>min</th>\n      <td>18.000000</td>\n      <td>102.000000</td>\n      <td>1.000000</td>\n      <td>1.000000</td>\n      <td>1.0</td>\n      <td>1.000000</td>\n      <td>1.000000</td>\n      <td>30.000000</td>\n      <td>1.000000</td>\n      <td>1.000000</td>\n      <td>...</td>\n      <td>1.000000</td>\n      <td>80.0</td>\n      <td>0.000000</td>\n      <td>0.000000</td>\n      <td>0.000000</td>\n      <td>1.000000</td>\n      <td>0.000000</td>\n      <td>0.000000</td>\n      <td>0.000000</td>\n      <td>0.000000</td>\n    </tr>\n    <tr>\n      <th>25%</th>\n      <td>30.000000</td>\n      <td>465.000000</td>\n      <td>2.000000</td>\n      <td>2.000000</td>\n      <td>1.0</td>\n      <td>491.250000</td>\n      <td>2.000000</td>\n      <td>48.000000</td>\n      <td>2.000000</td>\n      <td>1.000000</td>\n      <td>...</td>\n      <td>2.000000</td>\n      <td>80.0</td>\n      <td>0.000000</td>\n      <td>6.000000</td>\n      <td>2.000000</td>\n      <td>2.000000</td>\n      <td>3.000000</td>\n      <td>2.000000</td>\n      <td>0.000000</td>\n      <td>2.000000</td>\n    </tr>\n    <tr>\n      <th>50%</th>\n      <td>36.000000</td>\n      <td>802.000000</td>\n      <td>7.000000</td>\n      <td>3.000000</td>\n      <td>1.0</td>\n      <td>1020.500000</td>\n      <td>3.000000</td>\n      <td>66.000000</td>\n      <td>3.000000</td>\n      <td>2.000000</td>\n      <td>...</td>\n      <td>3.000000</td>\n      <td>80.0</td>\n      <td>1.000000</td>\n      <td>10.000000</td>\n      <td>3.000000</td>\n      <td>3.000000</td>\n      <td>5.000000</td>\n      <td>3.000000</td>\n      <td>1.000000</td>\n      <td>3.000000</td>\n    </tr>\n    <tr>\n      <th>75%</th>\n      <td>43.000000</td>\n      <td>1157.000000</td>\n      <td>14.000000</td>\n      <td>4.000000</td>\n      <td>1.0</td>\n      <td>1555.750000</td>\n      <td>4.000000</td>\n      <td>83.750000</td>\n      <td>3.000000</td>\n      <td>3.000000</td>\n      <td>...</td>\n      <td>4.000000</td>\n      <td>80.0</td>\n      <td>1.000000</td>\n      <td>15.000000</td>\n      <td>3.000000</td>\n      <td>3.000000</td>\n      <td>9.000000</td>\n      <td>7.000000</td>\n      <td>3.000000</td>\n      <td>7.000000</td>\n    </tr>\n    <tr>\n      <th>max</th>\n      <td>60.000000</td>\n      <td>1499.000000</td>\n      <td>29.000000</td>\n      <td>5.000000</td>\n      <td>1.0</td>\n      <td>2068.000000</td>\n      <td>4.000000</td>\n      <td>100.000000</td>\n      <td>4.000000</td>\n      <td>5.000000</td>\n      <td>...</td>\n      <td>4.000000</td>\n      <td>80.0</td>\n      <td>3.000000</td>\n      <td>40.000000</td>\n      <td>6.000000</td>\n      <td>4.000000</td>\n      <td>40.000000</td>\n      <td>18.000000</td>\n      <td>15.000000</td>\n      <td>17.000000</td>\n    </tr>\n  </tbody>\n</table>\n<p>8 rows × 26 columns</p>\n</div>"
     },
     "metadata": {}
    }
   ],
   "execution_count": 13
  },
  {
   "cell_type": "code",
   "source": "fig, ax = plt.subplots(3,3, figsize = (20,10))\r\n\r\nax = np.ravel(ax)\r\nfor i in range(len(categorical_columns)):\r\n    sb.countplot(data = attritionData, x = categorical_columns[i], ax = ax[i], palette=\"rocket\", order = attritionData[categorical_columns[i]].value_counts().index)\r\n    ax[i].set_xticklabels(labels = attritionData[categorical_columns[i]].unique(), rotation=45, ha='right')\r\nax = np.reshape(ax, (3, 3))\r\nplt.tight_layout()",
   "metadata": {
    "cell_id": "fc840751-f591-43e1-b383-8c56c8c821dd",
    "tags": [],
    "deepnote_to_be_reexecuted": false,
    "source_hash": "bd4e84d1",
    "execution_start": 1646705687615,
    "execution_millis": 3658,
    "deepnote_cell_type": "code"
   },
   "outputs": [
    {
     "data": {
      "text/plain": "<Figure size 1440x720 with 9 Axes>",
      "image/png": "[encoded data removed]"
     },
     "metadata": {
      "image/png": {
       "width": 1428,
       "height": 708
      }
     },
     "output_type": "display_data"
    }
   ],
   "execution_count": 11
  },
  {
   "cell_type": "code",
   "source": "",
   "metadata": {
    "cell_id": "d2dd34c3-d4eb-4b5a-a28f-eee7a05c28d3",
    "tags": [],
    "deepnote_cell_type": "code"
   },
   "outputs": [],
   "execution_count": null
  },
  {
   "cell_type": "code",
   "source": "",
   "metadata": {
    "cell_id": "35b70e58-99e2-4d1c-a25d-1bc83d7639f3",
    "tags": [],
    "deepnote_cell_type": "code"
   },
   "outputs": [],
   "execution_count": null
  },
  {
   "cell_type": "code",
   "source": "",
   "metadata": {
    "cell_id": "527030c5-8ef5-4034-a869-867cb545e5b4",
    "tags": [],
    "deepnote_cell_type": "code"
   },
   "outputs": [],
   "execution_count": null
  },
  {
   "cell_type": "markdown",
   "source": "---\r\n## Machine Learning Models (Linear Regression)",
   "metadata": {
    "cell_id": "6e7d72de-f4e3-484f-838e-eee20ab9e3a0",
    "tags": [],
    "deepnote_cell_type": "markdown"
   }
  },
  {
   "cell_type": "code",
   "source": "# Import the relevant Machine Learning Modules\r\nfrom sklearn.tree import DecisionTreeClassifier # Base Classifier\r\nfrom sklearn.model_selection import train_test_split # Random Splitter\r\nfrom sklearn.metrics import confusion_matrix # Matrix",
   "metadata": {
    "cell_id": "eb9563be-ac82-4323-b457-8a1a0392ab10",
    "tags": [],
    "deepnote_to_be_reexecuted": false,
    "source_hash": "c7316874",
    "execution_start": 1646705849420,
    "execution_millis": 603,
    "deepnote_cell_type": "code"
   },
   "outputs": [],
   "execution_count": 15
  },
  {
   "cell_type": "code",
   "source": "# Perform One Hot Encoding\r\nfrom sklearn.preprocessing import OneHotEncoder\r\n\r\n#creating instance of one-hot-encoder\r\nencoder = OneHotEncoder(handle_unknown='ignore')\r\n\r\n#perform one-hot encoding on 'team' column \r\nencoder_df = pd.DataFrame(encoder.fit_transform(attritionData[['Attrition']]).toarray())\r\n\r\n#merge one-hot encoded columns back with original DataFrame\r\nattrition_df = attritionData.join(encoder_df)\r\n\r\n# Rename the Headers\r\nattrition_df.columns = ['Age', 'Attrition', 'BusinessTravel', 'DailyRate', 'Department', 'DistanceFromHome', 'Education', 'EducationField', 'EmployeeCount', 'EmployeeNumber', 'EnvironmentSatisfaction', 'Gender', 'HourlyRate', 'JobInvolvement', 'JobLevel', 'JobRole', 'JobSatisfaction', 'MaritalStatus', 'MonthlyIncome', 'MonthlyRate', 'NumCompaniesWorked', 'Over18', 'OverTime', 'PercentSalaryHike', 'PerformanceRating', 'RelationshipSatisfaction', 'StandardHours', 'StockOptionLevel', 'TotalWorkingYears', 'TrainingTimesLastYear', 'WorkLifeBalance', 'YearsAtCompany', 'YearsInCurrentRole', 'YearsSinceLastPromotion', 'YearsWithCurrManager', 'Attrition - One Hot (Y == 0)', 'Attrition - One Hot (Y == 1)']\r\n# Verify Changes\r\nprint(attrition_df)",
   "metadata": {
    "cell_id": "bd7cc07d-1232-4267-886c-75265d3be068",
    "tags": [],
    "deepnote_to_be_reexecuted": false,
    "source_hash": "9198d019",
    "execution_start": 1646707077112,
    "execution_millis": 30,
    "deepnote_cell_type": "code"
   },
   "outputs": [
    {
     "name": "stdout",
     "text": "      Age Attrition     BusinessTravel  DailyRate              Department  \\\n0      41       Yes      Travel_Rarely       1102                   Sales   \n1      49        No  Travel_Frequently        279  Research & Development   \n2      37       Yes      Travel_Rarely       1373  Research & Development   \n3      33        No  Travel_Frequently       1392  Research & Development   \n4      27        No      Travel_Rarely        591  Research & Development   \n...   ...       ...                ...        ...                     ...   \n1465   36        No  Travel_Frequently        884  Research & Development   \n1466   39        No      Travel_Rarely        613  Research & Development   \n1467   27        No      Travel_Rarely        155  Research & Development   \n1468   49        No  Travel_Frequently       1023                   Sales   \n1469   34        No      Travel_Rarely        628  Research & Development   \n\n      DistanceFromHome  Education EducationField  EmployeeCount  \\\n0                    1          2  Life Sciences              1   \n1                    8          1  Life Sciences              1   \n2                    2          2          Other              1   \n3                    3          4  Life Sciences              1   \n4                    2          1        Medical              1   \n...                ...        ...            ...            ...   \n1465                23          2        Medical              1   \n1466                 6          1        Medical              1   \n1467                 4          3  Life Sciences              1   \n1468                 2          3        Medical              1   \n1469                 8          3        Medical              1   \n\n      EmployeeNumber  ...  StockOptionLevel TotalWorkingYears  \\\n0                  1  ...                 0                 8   \n1                  2  ...                 1                10   \n2                  4  ...                 0                 7   \n3                  5  ...                 0                 8   \n4                  7  ...                 1                 6   \n...              ...  ...               ...               ...   \n1465            2061  ...                 1                17   \n1466            2062  ...                 1                 9   \n1467            2064  ...                 1                 6   \n1468            2065  ...                 0                17   \n1469            2068  ...                 0                 6   \n\n      TrainingTimesLastYear  WorkLifeBalance  YearsAtCompany  \\\n0                         0                1               6   \n1                         3                3              10   \n2                         3                3               0   \n3                         3                3               8   \n4                         3                3               2   \n...                     ...              ...             ...   \n1465                      3                3               5   \n1466                      5                3               7   \n1467                      0                3               6   \n1468                      3                2               9   \n1469                      3                4               4   \n\n     YearsInCurrentRole  YearsSinceLastPromotion YearsWithCurrManager  \\\n0                     4                        0                    5   \n1                     7                        1                    7   \n2                     0                        0                    0   \n3                     7                        3                    0   \n4                     2                        2                    2   \n...                 ...                      ...                  ...   \n1465                  2                        0                    3   \n1466                  7                        1                    7   \n1467                  2                        0                    3   \n1468                  6                        0                    8   \n1469                  3                        1                    2   \n\n      Attrition - One Hot (Y == 0)  Attrition - One Hot (Y == 1)  \n0                              0.0                           1.0  \n1                              1.0                           0.0  \n2                              0.0                           1.0  \n3                              1.0                           0.0  \n4                              1.0                           0.0  \n...                            ...                           ...  \n1465                           1.0                           0.0  \n1466                           1.0                           0.0  \n1467                           1.0                           0.0  \n1468                           1.0                           0.0  \n1469                           1.0                           0.0  \n\n[1470 rows x 37 columns]\n",
     "output_type": "stream"
    }
   ],
   "execution_count": 24
  },
  {
   "cell_type": "code",
   "source": "# Dropping Duplicate Columns and Original Attrition Column\r\nattrition_df.drop('Attrition', axis = 1, inplace = True)\r\nattrition_df.drop('Attrition - One Hot (Y == 0)', axis = 1, inplace = True)\r\n\r\n# Verify Changes\r\nprint(attrition_df)",
   "metadata": {
    "cell_id": "8372f94b-fe4f-46cf-81ad-7910de40b6ef",
    "tags": [],
    "deepnote_to_be_reexecuted": false,
    "source_hash": "a91a6c02",
    "execution_start": 1646707217202,
    "execution_millis": 52,
    "deepnote_cell_type": "code"
   },
   "outputs": [
    {
     "name": "stdout",
     "text": "      Age     BusinessTravel  DailyRate              Department  \\\n0      41      Travel_Rarely       1102                   Sales   \n1      49  Travel_Frequently        279  Research & Development   \n2      37      Travel_Rarely       1373  Research & Development   \n3      33  Travel_Frequently       1392  Research & Development   \n4      27      Travel_Rarely        591  Research & Development   \n...   ...                ...        ...                     ...   \n1465   36  Travel_Frequently        884  Research & Development   \n1466   39      Travel_Rarely        613  Research & Development   \n1467   27      Travel_Rarely        155  Research & Development   \n1468   49  Travel_Frequently       1023                   Sales   \n1469   34      Travel_Rarely        628  Research & Development   \n\n      DistanceFromHome  Education EducationField  EmployeeCount  \\\n0                    1          2  Life Sciences              1   \n1                    8          1  Life Sciences              1   \n2                    2          2          Other              1   \n3                    3          4  Life Sciences              1   \n4                    2          1        Medical              1   \n...                ...        ...            ...            ...   \n1465                23          2        Medical              1   \n1466                 6          1        Medical              1   \n1467                 4          3  Life Sciences              1   \n1468                 2          3        Medical              1   \n1469                 8          3        Medical              1   \n\n      EmployeeNumber  EnvironmentSatisfaction  ... StandardHours  \\\n0                  1                        2  ...            80   \n1                  2                        3  ...            80   \n2                  4                        4  ...            80   \n3                  5                        4  ...            80   \n4                  7                        1  ...            80   \n...              ...                      ...  ...           ...   \n1465            2061                        3  ...            80   \n1466            2062                        4  ...            80   \n1467            2064                        2  ...            80   \n1468            2065                        4  ...            80   \n1469            2068                        2  ...            80   \n\n      StockOptionLevel  TotalWorkingYears  TrainingTimesLastYear  \\\n0                    0                  8                      0   \n1                    1                 10                      3   \n2                    0                  7                      3   \n3                    0                  8                      3   \n4                    1                  6                      3   \n...                ...                ...                    ...   \n1465                 1                 17                      3   \n1466                 1                  9                      5   \n1467                 1                  6                      0   \n1468                 0                 17                      3   \n1469                 0                  6                      3   \n\n     WorkLifeBalance  YearsAtCompany YearsInCurrentRole  \\\n0                  1               6                  4   \n1                  3              10                  7   \n2                  3               0                  0   \n3                  3               8                  7   \n4                  3               2                  2   \n...              ...             ...                ...   \n1465               3               5                  2   \n1466               3               7                  7   \n1467               3               6                  2   \n1468               2               9                  6   \n1469               4               4                  3   \n\n      YearsSinceLastPromotion  YearsWithCurrManager  \\\n0                           0                     5   \n1                           1                     7   \n2                           0                     0   \n3                           3                     0   \n4                           2                     2   \n...                       ...                   ...   \n1465                        0                     3   \n1466                        1                     7   \n1467                        0                     3   \n1468                        0                     8   \n1469                        1                     2   \n\n      Attrition - One Hot (Y == 1)  \n0                              1.0  \n1                              0.0  \n2                              1.0  \n3                              0.0  \n4                              0.0  \n...                            ...  \n1465                           0.0  \n1466                           0.0  \n1467                           0.0  \n1468                           0.0  \n1469                           0.0  \n\n[1470 rows x 35 columns]\n",
     "output_type": "stream"
    }
   ],
   "execution_count": 25
  },
  {
   "cell_type": "code",
   "source": "",
   "metadata": {
    "cell_id": "6e090fd4-867c-49fb-85df-2b98720348a8",
    "tags": [],
    "deepnote_cell_type": "code"
   },
   "outputs": [],
   "execution_count": null
  },
  {
   "cell_type": "markdown",
   "source": "<a style='text-decoration:none;line-height:16px;display:flex;color:#5B5B62;padding:10px;justify-content:end;' href='https://deepnote.com?utm_source=created-in-deepnote-cell&projectId=b7df77b2-5196-454a-a806-ccae31397319' target=\"_blank\">\n<img alt='Created in deepnote.com' style='display:inline;max-height:16px;margin:0px;margin-right:7.5px;' src='data:image/svg+xml;base64,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' > </img>\nCreated in <span style='font-weight:600;margin-left:4px;'>Deepnote</span></a>",
   "metadata": {
    "tags": [],
    "created_in_deepnote_cell": true,
    "deepnote_cell_type": "markdown"
   }
  }
 ],
 "nbformat": 4,
 "nbformat_minor": 2,
 "metadata": {
  "orig_nbformat": 2,
  "deepnote": {
   "is_reactive": false
  },
  "deepnote_notebook_id": "68171d39-f6d7-4e0a-892a-ed086c55ec62",
  "deepnote_execution_queue": []
 }
}